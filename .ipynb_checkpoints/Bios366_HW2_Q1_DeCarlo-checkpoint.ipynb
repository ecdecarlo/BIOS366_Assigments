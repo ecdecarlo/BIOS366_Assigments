{
 "metadata": {
  "name": ""
 },
 "nbformat": 3,
 "nbformat_minor": 0,
 "worksheets": [
  {
   "cells": [
    {
     "cell_type": "code",
     "collapsed": false,
     "input": [
      "import numpy as np\n",
      "import scipy as sp\n",
      "import matplotlib.pyplot as plt\n",
      "from scipy.stats import distributions\n",
      "dnorm = distributions.norm.logpdf\n",
      "runif = np.random.rand"
     ],
     "language": "python",
     "metadata": {},
     "outputs": [],
     "prompt_number": 31
    },
    {
     "cell_type": "markdown",
     "metadata": {},
     "source": [
      "## Question 1\n",
      "\n",
      "The goal of this problem is to investigate the role of the proposal distribution in a Metropolis-Hastings algorithm designed to simulate from the posterior distribution of the mixture parameter $\\delta$. \n",
      "\n",
      "1. Simulate 200 realizations from the mixture distribution:\n",
      "    $$y_i \\sim \\delta N(7, 0.5^2) + (1-\\delta) N(10, 0.5^2)$$\n",
      "    with $\\delta = 0.7$. Plot a histogram of these data. \n",
      "2. Implement an ABC procedure to simulate from the posterior distribution of $\\delta$, using your data from part (1). \n",
      "3. Implement a random walk M-H algorithm with proposal $\\delta\\prime = \\delta^{(i)} + \\epsilon$ with $\\epsilon \\sim Unif(\u22121,1)$. \n",
      "4. Reparameterize the problem letting $U = \\log\\left[\\frac{\\delta}{1 - \\delta}\\right]$ and $u\\prime = u^{(i)} + \\epsilon$. Implement a random walk chain in U-space. (Hint: you need to account for this transformation in your acceptance probability) \n",
      "5. Compare the estimates and convergence behavior of the three algorithms.\n",
      "\n",
      "In part (1), you are asked to simulate data from a distribution with $\\delta$ known. For parts (2)\u2013(4), assume $\\delta$ is unknown with prior $\\delta \\sim Unif( 0,1)$. For parts (2)\u2013(4), provide an appropriate plot and a table summarizing the output of the algorithm. To facilitate comparisons, use the same number of iterations, random seed, starting values, and burn-in period for all implementations of the algorithm. \n",
      "\n",
      "** Part 1: Simulate Data**"
     ]
    },
    {
     "cell_type": "code",
     "collapsed": false,
     "input": [
      "def mix_dist(delta):\n",
      "    y = [delta[i]*np.random.normal(7,0.5)+(1-delta[i])*np.random.normal(10,0.5) for i in range(size(delta))]\n",
      "    return y\n",
      "\n",
      "realizations = 200\n",
      "delta = [0.7]*realizations\n",
      "y_obs = mix_dist(delta)"
     ],
     "language": "python",
     "metadata": {},
     "outputs": [],
     "prompt_number": 32
    },
    {
     "cell_type": "code",
     "collapsed": false,
     "input": [
      "plt.hist(y_obs, bins=15)\n",
      "ylabel('Frequency')\n",
      "xlabel('y')\n",
      "title('Histogram of Observed Data')"
     ],
     "language": "python",
     "metadata": {},
     "outputs": [
      {
       "metadata": {},
       "output_type": "pyout",
       "prompt_number": 33,
       "text": [
        "<matplotlib.text.Text at 0x1073a17d0>"
       ]
      },
      {
       "metadata": {},
       "output_type": "display_data",
       "png": "[encoded data removed]",
       "text": [
        "<matplotlib.figure.Figure at 0x10738bf90>"
       ]
      }
     ],
     "prompt_number": 33
    },
    {
     "cell_type": "markdown",
     "metadata": {},
     "source": [
      "** Part 2: Implement Approximate Bayesian Computing Procedure to Simulate Posterior of $\\delta$ **\n",
      "\n",
      "**Parameters and Prior Statistics**"
     ]
    },
    {
     "cell_type": "code",
     "collapsed": false,
     "input": [
      "random.seed(3000)\n",
      "samples = 1000\n",
      "lower = 0;\n",
      "upper =  1;"
     ],
     "language": "python",
     "metadata": {},
     "outputs": [],
     "prompt_number": 34
    },
    {
     "cell_type": "markdown",
     "metadata": {},
     "source": [
      "** Density Proportional to the Posterior Distribution (Likelihood times Prior) **"
     ]
    },
    {
     "cell_type": "code",
     "collapsed": false,
     "input": [
      "def posterior_delta(delta, lower,upper,y_obs):\n",
      "    y_pred=mix_dist(delta)\n",
      "    like = [(sp.stats.norm.pdf(y_pred[i]-y_obs,0,0.05)*sp.stats.uniform.pdf(delta[i],lower,upper)).sum() for i in range(size(delta))]\n",
      "    return like"
     ],
     "language": "python",
     "metadata": {},
     "outputs": [],
     "prompt_number": 35
    },
    {
     "cell_type": "markdown",
     "metadata": {},
     "source": [
      "** SIR Algorithm **"
     ]
    },
    {
     "cell_type": "code",
     "collapsed": false,
     "input": [
      "proposed = np.random.uniform(lower, upper, samples)\n",
      "g = sp.stats.uniform.pdf(proposed,lower,upper)\n",
      "f = posterior_delta(proposed,lower,upper,y_obs)\n",
      "w = (f/g)/(f/g).sum()\n",
      "post = proposed[np.random.choice(range(len(proposed)), size=samples, p=w)]"
     ],
     "language": "python",
     "metadata": {},
     "outputs": [],
     "prompt_number": 36
    },
    {
     "cell_type": "code",
     "collapsed": false,
     "input": [
      "plt.hist(post, bins=15)\n",
      "ylabel('Frequency')\n",
      "xlabel('y')\n",
      "title('Histogram of Posterior Delta')"
     ],
     "language": "python",
     "metadata": {},
     "outputs": [
      {
       "metadata": {},
       "output_type": "pyout",
       "prompt_number": 67,
       "text": [
        "<matplotlib.text.Text at 0x1077cf190>"
       ]
      },
      {
       "metadata": {},
       "output_type": "display_data",
       "png": "[encoded data removed]",
       "text": [
        "<matplotlib.figure.Figure at 0x1073928d0>"
       ]
      }
     ],
     "prompt_number": 67
    },
    {
     "cell_type": "markdown",
     "metadata": {},
     "source": [
      "** Part 3: Implement Random Walk MH Algorithm to Simulate Posterior of $\\delta$ **\n",
      "\n",
      "**Parameters and Prior Statistics**"
     ]
    },
    {
     "cell_type": "code",
     "collapsed": false,
     "input": [
      "random.seed(3000)\n",
      "samples = 1000\n",
      "lower = 0;\n",
      "upper =  1;"
     ],
     "language": "python",
     "metadata": {},
     "outputs": [],
     "prompt_number": 38
    },
    {
     "cell_type": "markdown",
     "metadata": {},
     "source": [
      "** Define MH Algorithm **"
     ]
    },
    {
     "cell_type": "code",
     "collapsed": false,
     "input": [
      "def metropolis(n_iterations, initial_values):\n",
      "    n_params = len(initial_values)        \n",
      "    # Initialize trace for parameters\n",
      "    trace = np.empty((n_iterations+1, n_params))\n",
      "    # Set initial values\n",
      "    trace[0] = initial_values    \n",
      "    # Calculate joint posterior for initial values\n",
      "    current_prob = posterior_delta(trace[0],lower,upper,y_obs)\n",
      "    # Initialize acceptance counts\n",
      "    accepted = [0]*n_params\n",
      "\n",
      "    for i in range(n_iterations):\n",
      "        if not i%1000: print 'Iteration', i\n",
      "    \n",
      "        # Grab current parameter values\n",
      "        current_params = trace[i]\n",
      "    \n",
      "        # Get current value for parameter j\n",
      "        p = trace[i].copy()\n",
      "    \n",
      "        # Propose new value\n",
      "        theta = current_params+np.random.uniform(-1,1)\n",
      "    \n",
      "        # Calculate log posterior with proposed value\n",
      "        proposed_prob = posterior_delta(theta,lower,upper,y_obs)\n",
      "    \n",
      "        # Log-acceptance rate\n",
      "        alpha = proposed_prob[0]/current_prob[0]\n",
      "    \n",
      "        # Sample a uniform random variate\n",
      "        u = runif()\n",
      "    \n",
      "        # Test proposed value\n",
      "        if u < alpha:\n",
      "            # Accept\n",
      "            trace[i+1] = theta\n",
      "            current_prob = proposed_prob\n",
      "            accepted[0] += 1\n",
      "        else:\n",
      "            # Reject\n",
      "            trace[i+1] = trace[i]\n",
      "    return trace, accepted"
     ],
     "language": "python",
     "metadata": {},
     "outputs": [],
     "prompt_number": 50
    },
    {
     "cell_type": "code",
     "collapsed": false,
     "input": [
      "n_iter = 10000\n",
      "init = np.array([0.2])\n",
      "trace, acc = metropolis(n_iter, np.array([0.2]))"
     ],
     "language": "python",
     "metadata": {},
     "outputs": [
      {
       "output_type": "stream",
       "stream": "stdout",
       "text": [
        "Iteration 0\n",
        "Iteration"
       ]
      },
      {
       "output_type": "stream",
       "stream": "stdout",
       "text": [
        " 1000\n",
        "Iteration"
       ]
      },
      {
       "output_type": "stream",
       "stream": "stdout",
       "text": [
        " 2000\n",
        "Iteration"
       ]
      },
      {
       "output_type": "stream",
       "stream": "stdout",
       "text": [
        " 3000\n",
        "Iteration"
       ]
      },
      {
       "output_type": "stream",
       "stream": "stdout",
       "text": [
        " 4000\n",
        "Iteration"
       ]
      },
      {
       "output_type": "stream",
       "stream": "stdout",
       "text": [
        " 5000\n",
        "Iteration"
       ]
      },
      {
       "output_type": "stream",
       "stream": "stdout",
       "text": [
        " 6000\n",
        "Iteration"
       ]
      },
      {
       "output_type": "stream",
       "stream": "stdout",
       "text": [
        " 7000\n",
        "Iteration"
       ]
      },
      {
       "output_type": "stream",
       "stream": "stdout",
       "text": [
        " 8000\n",
        "Iteration"
       ]
      },
      {
       "output_type": "stream",
       "stream": "stdout",
       "text": [
        " 9000\n"
       ]
      }
     ],
     "prompt_number": 62
    },
    {
     "cell_type": "code",
     "collapsed": false,
     "input": [
      "np.array(acc, float)/n_iter"
     ],
     "language": "python",
     "metadata": {},
     "outputs": [
      {
       "metadata": {},
       "output_type": "pyout",
       "prompt_number": 63,
       "text": [
        "array([ 0.1895])"
       ]
      }
     ],
     "prompt_number": 63
    },
    {
     "cell_type": "code",
     "collapsed": false,
     "input": [
      "for param, samples in zip(['intercept', 'slope', 'precision'], trace.T):\n",
      "    fig, axes = plt.subplots(1, 2)\n",
      "    axes[0].plot(samples)\n",
      "    axes[0].set_ylabel(param)\n",
      "    axes[1].hist(samples[n_iter/2:])"
     ],
     "language": "python",
     "metadata": {},
     "outputs": [
      {
       "metadata": {},
       "output_type": "display_data",
       "png": "[encoded data removed]",
       "text": [
        "<matplotlib.figure.Figure at 0x1079d0090>"
       ]
      }
     ],
     "prompt_number": 64
    },
    {
     "cell_type": "markdown",
     "metadata": {},
     "source": [
      "** Part 4: Implement Random Walk MH Algorithm to Simulate Posterior of $\\delta$ **\n",
      "\n",
      "**Parameters and Prior Statistics**"
     ]
    },
    {
     "cell_type": "code",
     "collapsed": false,
     "input": [
      "random.seed(3000)\n",
      "samples = 1000\n",
      "lower = 0;\n",
      "upper =  1;"
     ],
     "language": "python",
     "metadata": {},
     "outputs": []
    },
    {
     "cell_type": "code",
     "collapsed": false,
     "input": [
      "def metropolis_u(n_iterations, initial_values):\n",
      "    n_params = len(initial_values)        \n",
      "    # Initialize trace for parameters\n",
      "    trace = np.empty((n_iterations+1, n_params))\n",
      "    # Set initial values\n",
      "    trace[0] = initial_values    \n",
      "    # Calculate joint posterior for initial values\n",
      "    current_prob = posterior_delta(trace[0],lower,upper,y_obs)\n",
      "    # Initialize acceptance counts\n",
      "    accepted = [0]*n_params\n",
      "\n",
      "    for i in range(n_iterations):\n",
      "        if not i%1000: print 'Iteration', i\n",
      "    \n",
      "        # Grab current parameter values\n",
      "        current_params = np.log(trace[i]/(1-trace[i]))\n",
      "        # Propose new value\n",
      "        p = current_params+np.random.uniform(-1,1)\n",
      "        theta = np.exp(p)/(1+np.exp(p))\n",
      "        \n",
      "        # Calculate log posterior with proposed value\n",
      "        proposed_prob = posterior_delta(theta,lower,upper,y_obs)\n",
      "    \n",
      "        # Log-acceptance rate\n",
      "        alpha = np.log((proposed_prob[0]/current_prob[0])/(1-proposed_prob[0]/current_prob[0]))\n",
      "    \n",
      "        # Sample a uniform random variate\n",
      "        u = runif()\n",
      "    \n",
      "        # Test proposed value\n",
      "        if u < alpha:\n",
      "            # Accept\n",
      "            trace[i+1] = theta\n",
      "            current_prob = proposed_prob\n",
      "            accepted[0] += 1\n",
      "        else:\n",
      "            # Reject\n",
      "            trace[i+1] = trace[i]\n",
      "    return trace, accepted"
     ],
     "language": "python",
     "metadata": {},
     "outputs": [],
     "prompt_number": 74
    },
    {
     "cell_type": "code",
     "collapsed": false,
     "input": [
      "n_iter = 10000\n",
      "init = np.array([0.2])\n",
      "trace_u, acc_u = metropolis(n_iter, np.array([0.2]))"
     ],
     "language": "python",
     "metadata": {},
     "outputs": [
      {
       "output_type": "stream",
       "stream": "stdout",
       "text": [
        "Iteration 0\n",
        "Iteration"
       ]
      },
      {
       "output_type": "stream",
       "stream": "stdout",
       "text": [
        " 1000\n",
        "Iteration"
       ]
      },
      {
       "output_type": "stream",
       "stream": "stdout",
       "text": [
        " 2000\n",
        "Iteration"
       ]
      },
      {
       "output_type": "stream",
       "stream": "stdout",
       "text": [
        " 3000\n",
        "Iteration"
       ]
      },
      {
       "output_type": "stream",
       "stream": "stdout",
       "text": [
        " 4000\n",
        "Iteration"
       ]
      },
      {
       "output_type": "stream",
       "stream": "stdout",
       "text": [
        " 5000\n",
        "Iteration"
       ]
      },
      {
       "output_type": "stream",
       "stream": "stdout",
       "text": [
        " 6000\n",
        "Iteration"
       ]
      },
      {
       "output_type": "stream",
       "stream": "stdout",
       "text": [
        " 7000\n",
        "Iteration"
       ]
      },
      {
       "output_type": "stream",
       "stream": "stdout",
       "text": [
        " 8000\n",
        "Iteration"
       ]
      },
      {
       "output_type": "stream",
       "stream": "stdout",
       "text": [
        " 9000\n"
       ]
      }
     ],
     "prompt_number": 75
    },
    {
     "cell_type": "code",
     "collapsed": false,
     "input": [
      "np.array(acc_u, float)/n_iter"
     ],
     "language": "python",
     "metadata": {},
     "outputs": [
      {
       "metadata": {},
       "output_type": "pyout",
       "prompt_number": 76,
       "text": [
        "array([ 0.1931])"
       ]
      }
     ],
     "prompt_number": 76
    },
    {
     "cell_type": "code",
     "collapsed": false,
     "input": [
      "for param, samples in zip(['intercept', 'slope', 'precision'], trace_u.T):\n",
      "    fig, axes = plt.subplots(1, 2)\n",
      "    axes[0].plot(samples)\n",
      "    axes[0].set_ylabel(param)\n",
      "    axes[1].hist(samples[n_iter/2:])"
     ],
     "language": "python",
     "metadata": {},
     "outputs": [
      {
       "metadata": {},
       "output_type": "display_data",
       "png": "[encoded data removed]",
       "text": [
        "<matplotlib.figure.Figure at 0x1077aa2d0>"
       ]
      }
     ],
     "prompt_number": 77
    },
    {
     "cell_type": "markdown",
     "metadata": {},
     "source": [
      "** Part 5: Compare Estimates and Convergence**"
     ]
    },
    {
     "cell_type": "code",
     "collapsed": false,
     "input": [
      "mean_1 = np.mean(post)\n",
      "std_1 = np.std(post)"
     ],
     "language": "python",
     "metadata": {},
     "outputs": [],
     "prompt_number": 83
    },
    {
     "cell_type": "code",
     "collapsed": false,
     "input": [
      "mean_2 = np.mean(trace)\n",
      "std_2 = np.std(trace)"
     ],
     "language": "python",
     "metadata": {},
     "outputs": [],
     "prompt_number": 84
    },
    {
     "cell_type": "code",
     "collapsed": false,
     "input": [
      "mean_3 = np.mean(trace_u)\n",
      "std_3 = np.std(trace_u)"
     ],
     "language": "python",
     "metadata": {},
     "outputs": [],
     "prompt_number": 85
    },
    {
     "cell_type": "code",
     "collapsed": false,
     "input": [],
     "language": "python",
     "metadata": {},
     "outputs": [],
     "prompt_number": 91
    },
    {
     "cell_type": "code",
     "collapsed": false,
     "input": [],
     "language": "python",
     "metadata": {},
     "outputs": []
    }
   ],
   "metadata": {}
  }
 ]
}