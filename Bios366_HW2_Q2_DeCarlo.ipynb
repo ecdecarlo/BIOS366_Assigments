{
 "metadata": {
  "name": ""
 },
 "nbformat": 3,
 "nbformat_minor": 0,
 "worksheets": [
  {
   "cells": [
    {
     "cell_type": "markdown",
     "metadata": {},
     "source": [
      "## Question 2\n",
      "\n",
      "Carlin (1992) considers a Bayesian approach to meta-analysis, and includes the following examples of 22 trials of beta-blockers to prevent mortality after myocardial infarction. These data are given below.\n",
      "\n",
      "In one possible random effects model we assume the true effect (on a log-odds scale) $d_i$ in a trial $i$\n",
      "is drawn from some population distribution. Let $r^C_i$ denote number of events in the control group in trial $i$, and $r^T_i$ denote events under active treatment in trial $i$. Our model is:\n",
      "\n",
      "$$\\begin{aligned}\n",
      "r^C_i &\\sim \\text{Binomial}\\left(p^C_i, n^C_i\\right) \\\\\n",
      "r^T_i &\\sim \\text{Binomial}\\left(p^T_i, n^T_i\\right) \\\\\n",
      "\\text{logit}\\left(p^C_i\\right) &= \\mu_i \\\\\n",
      "\\text{logit}\\left(p^T_i\\right) &= \\mu_i + \\delta \\\\\n",
      "\\mu_i &\\sim \\text{Normal}(m, s).\n",
      "\\end{aligned}$$\n",
      "\n",
      "In this case, we want to make inferences about the population effect $m$, and the predictive distribution for the effect $\\delta_{\\text{new}}$ in a new trial. \n",
      "\n",
      "This particular model uses a random effect for the population mean, and a fixed effect for the treatment effect. There are 3 other models you could fit to represent all possible combinations of fixed or random effects for these two parameters.\n",
      "\n",
      "Build all 4 models to estimate the treatment effect in PyMC and \n",
      "\n",
      "1. use convergence diagnostics to check for convergence in each model \n",
      "2. use posterior predictive checks to compare the fit of the models\n",
      "3. use DIC to compare the models as approximations of the true generating model\n",
      "\n",
      "Which model would you select and why?"
     ]
    },
    {
     "cell_type": "code",
     "collapsed": false,
     "input": [
      "r_t_obs = [3, 7, 5, 102, 28, 4, 98, 60, 25, 138, 64, 45, 9, 57, 25, 33, 28, 8, 6, 32, 27, 22]\n",
      "n_t_obs = [38, 114, 69, 1533, 355, 59, 945, 632, 278,1916, 873, 263, 291, 858, 154, 207, 251, 151, 174, 209, 391, 680]\n",
      "r_c_obs = [3, 14, 11, 127, 27, 6, 152, 48, 37, 188, 52, 47, 16, 45, 31, 38, 12, 6, 3, 40, 43, 39]\n",
      "n_c_obs = [39, 116, 93, 1520, 365, 52, 939, 471, 282, 1921, 583, 266, 293, 883, 147, 213, 122, 154, 134, 218, 364, 674]\n",
      "N = len(n_c_obs)"
     ],
     "language": "python",
     "metadata": {},
     "outputs": [],
     "prompt_number": 1
    },
    {
     "cell_type": "code",
     "collapsed": false,
     "input": [],
     "language": "python",
     "metadata": {},
     "outputs": []
    }
   ],
   "metadata": {}
  }
 ]
}