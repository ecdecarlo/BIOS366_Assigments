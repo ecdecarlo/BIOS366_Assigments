{
 "metadata": {
  "name": ""
 },
 "nbformat": 3,
 "nbformat_minor": 0,
 "worksheets": [
  {
   "cells": [
    {
     "cell_type": "code",
     "collapsed": false,
     "input": [
      "import pandas as pd\n",
      "import numpy as np\n",
      "import matplotlib.pyplot as plt"
     ],
     "language": "python",
     "metadata": {},
     "outputs": [],
     "prompt_number": 105
    },
    {
     "cell_type": "markdown",
     "metadata": {},
     "source": [
      "# Homework 1\n",
      "## Question 3\n",
      "\n",
      "Use the cominatorial optimization method of your choice to obtain a solution to the traveling salesman problem for the Brazilian cities described in the lecture notes, using minimum total distance as the criterion. Use the first city listed in the dataset as \"home\" (i.e. the trip must start and end there). "
     ]
    },
    {
     "cell_type": "code",
     "collapsed": false,
     "input": [
      "def parse_latlon(x):\n",
      "    d,m,s = map(float,x.split(':'))\n",
      "    ms = m/60. + s/3000.\n",
      "    if d<0:\n",
      "        return d-ms\n",
      "    return d+ms"
     ],
     "language": "python",
     "metadata": {},
     "outputs": [],
     "prompt_number": 170
    },
    {
     "cell_type": "code",
     "collapsed": false,
     "input": [
      "cities = pd.read_csv('../data/brasil_capitals.txt',\n",
      "                     names=['city','lat','lon'])[['lat','lon']].applymap(parse_latlon)\n",
      "\n",
      "nrows,ncols=cities.shape"
     ],
     "language": "python",
     "metadata": {},
     "outputs": [],
     "prompt_number": 171
    },
    {
     "cell_type": "code",
     "collapsed": false,
     "input": [
      "def total_distance(lat,lon):\n",
      "    dist = 0\n",
      "    for i in arange(len(lat)-1):\n",
      "        dist = dist+sqrt((lat[i]-lat[i+1])**2+(lon[i]-lon[i+1])**2)\n",
      "    dist = dist+sqrt((lat[0]-lat[-1])**2+(lon[0]-lon[-1])**2)\n",
      "    return dist"
     ],
     "language": "python",
     "metadata": {},
     "outputs": [],
     "prompt_number": 172
    },
    {
     "cell_type": "code",
     "collapsed": false,
     "input": [
      "periods = 20\n",
      "tau_start = 10\n",
      "temps = np.array([60, 120, 240])\n",
      "duration = np.array([8,5,7])\n",
      "cooling = [temps[0]]*duration[0]+[temps[1]]*duration[1]+[temps[2]]*duration[2]\n",
      "tau = [tau_start*0.8**i for i in range(periods)]\n",
      "\n",
      "\n",
      "dist_values= []"
     ],
     "language": "python",
     "metadata": {},
     "outputs": [],
     "prompt_number": 189
    },
    {
     "cell_type": "code",
     "collapsed": false,
     "input": [
      " for k in range(20):\n",
      "        solution_current = np.concatenate((np.zeros([1,1]),np.array([np.random.permutation(arange(1,nrows))])),axis=1)\n",
      "        dist_best=total_distance(np.array(cities['lat'][solution_current[0]]),\n",
      "                        np.array(cities['lon'][solution_current[0]]))\n",
      "        dist_values.append(dist_best)\n",
      "        for j in range(periods):\n",
      "            for i in range(cooling[j]): \n",
      "                solution_step = solution_current.copy()\n",
      "                flip = np.random.randint(1, nrows,size = 4)\n",
      "                solution_step[0][flip[0]] = solution_current[0][flip[1]]\n",
      "                solution_step[0][flip[1]] = solution_current[0][flip[0]]\n",
      "                dist_step = total_distance(np.array(cities['lat'][solution_step[0]]),\n",
      "                                np.array(cities['lon'][solution_step[0]]))\n",
      "                alpha = min(1, np.exp((dist_values[-1] - dist_step)/tau[j]))\n",
      "                if ((dist_step < dist_values[-1]) or (random.uniform() < alpha)):\n",
      "                    # Accept proposed solution\n",
      "                    solution_current = solution_step.copy()\n",
      "                    dist_values.append(dist_step)\n",
      "                    if dist_step < dist_best:\n",
      "                        # Replace previous best with this one\n",
      "                        dist_best = dist_step\n",
      "                        solution_best = solution_step.copy()\n",
      "                else:\n",
      "                    # Retain current solution\n",
      "                    dist_values.append(dist_values[-1])"
     ],
     "language": "python",
     "metadata": {},
     "outputs": [],
     "prompt_number": 191
    },
    {
     "cell_type": "code",
     "collapsed": false,
     "input": [
      "plt.plot(dist_values)\n",
      "xlim(0, len(dist_values))\n",
      "xlabel('Iteration'); ylabel('Distance')\n",
      "print('Best Distance: {0}\\nBest solution: {1}\\nDiscovered at iteration {2}'.format(dist_best, \n",
      "            np.where(solution_best==True),\n",
      "            np.where(dist_values==dist_best)[0][0]))\n",
      "plt.plot(np.where(dist_values==dist_best)[0][0], dist_best, 'ro')"
     ],
     "language": "python",
     "metadata": {},
     "outputs": [
      {
       "output_type": "stream",
       "stream": "stdout",
       "text": [
        "Best Distance: 145.996760728\n",
        "Best solution: (array([0]), array([1]))\n",
        "Discovered at iteration 54475\n"
       ]
      },
      {
       "metadata": {},
       "output_type": "pyout",
       "prompt_number": 192,
       "text": [
        "[<matplotlib.lines.Line2D at 0x1097e3ad0>]"
       ]
      },
      {
       "metadata": {},
       "output_type": "display_data",
       "png": "[encoded data removed]",
       "text": [
        "<matplotlib.figure.Figure at 0x1097e3fd0>"
       ]
      }
     ],
     "prompt_number": 192
    },
    {
     "cell_type": "code",
     "collapsed": false,
     "input": [
      "solution_best"
     ],
     "language": "python",
     "metadata": {},
     "outputs": [
      {
       "metadata": {},
       "output_type": "pyout",
       "prompt_number": 193,
       "text": [
        "array([[  0.,   1.,   2.,  13.,  16.,  17.,  22.,  21.,  19.,  14.,  11.,\n",
        "          9.,   8.,   7.,   5.,   3.,   6.,  18.,  23.,  24.,  25.,  20.,\n",
        "         15.,  12.,  10.,   4.]])"
       ]
      }
     ],
     "prompt_number": 193
    },
    {
     "cell_type": "code",
     "collapsed": false,
     "input": [],
     "language": "python",
     "metadata": {},
     "outputs": []
    }
   ],
   "metadata": {}
  }
 ]
}