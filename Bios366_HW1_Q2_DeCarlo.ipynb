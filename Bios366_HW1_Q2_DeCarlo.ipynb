{
 "metadata": {
  "name": ""
 },
 "nbformat": 3,
 "nbformat_minor": 0,
 "worksheets": [
  {
   "cells": [
    {
     "cell_type": "code",
     "collapsed": false,
     "input": [
      "import pandas as pd\n",
      "import numpy as np\n",
      "import matplotlib.pyplot as plt"
     ],
     "language": "python",
     "metadata": {},
     "outputs": [],
     "prompt_number": 1
    },
    {
     "cell_type": "markdown",
     "metadata": {},
     "source": [
      "# Homework 1\n",
      "## Question 2\n",
      "\n",
      "1. Implement simulated annealing for minimizing the AIC for the baseball salary regression problem. Model your algorithm on the example given in class.\n",
      "\n",
      "    1a. Compare the effects of different cooling schedules(different temperatures and different durations at each temperature)\n",
      "    \n",
      "    1b. Compare the effect of a proposal distribution that is discrete uniform over 2-neighborhoods versus one that is discrete uniform over 3-neighborhoods. //\n",
      "\n",
      "2. Implement a genetic algorithm for minimizing the AIC for the baseball salary regression problem Model your algorithm on Example 3.5.\n",
      "\n",
      "    2a. Compare the effects of using different mutation rates.\n",
      "    \n",
      "    2b. Compare the effects of using different generation sizes.\n",
      "    \n",
      "    2c. Instead of the selection mechanism used in the class example. try using independent selection of one parent with probability proporational to fitness and the other completely at random.\n",
      "    \n",
      "    \n",
      "## Part 1 Solution\n",
      "\n",
      "**Import Baseball Data**"
     ]
    },
    {
     "cell_type": "markdown",
     "metadata": {},
     "source": [
      "ALWAYS USE RELATIVE DIRECTORY LOCATIONS. BEST TO MOVE YOUR DATA INTO A `DATA` SUBDIRECTORY IN THE HOMEWORK. OTHERWISE, ITS HARD FOR ME TO RUN THIS."
     ]
    },
    {
     "cell_type": "code",
     "collapsed": false,
     "input": [
      "baseball = pd.read_table(\"data/baseball.dat\", sep='\\s+')\n",
      "\n",
      "logsalary = baseball.salary.apply(np.log)\n",
      "predictors = baseball.ix[:,'average':]\n",
      "nrows,ncols = predictors.shape"
     ],
     "language": "python",
     "metadata": {},
     "outputs": [],
     "prompt_number": 2
    },
    {
     "cell_type": "markdown",
     "metadata": {},
     "source": [
      "**Define AIC**\n",
      "\n",
      "$$ AIC = N\\log[RSS/N]+2*(s+2) $$\n",
      "\n",
      "where $N$ is the sample size, $s$ is the number of predictors in the model, and $RSS$ is the sum of squared residuals. These parameters can all be embedded into one Pandas DataFrame $g$ with the labels $nobs$, $resid$, and $beta$ which are outputs of the Ordinary Least Squares module in Pandas (pd.ols).\n"
     ]
    },
    {
     "cell_type": "code",
     "collapsed": false,
     "input": [
      "aic = lambda g: g.nobs * np.log((g.resid**2).sum()/g.nobs) + 2*len(g.beta)"
     ],
     "language": "python",
     "metadata": {},
     "outputs": [],
     "prompt_number": 3
    },
    {
     "cell_type": "markdown",
     "metadata": {},
     "source": [
      "**Define Cooling Schedules**\n",
      "\n",
      "Here we define the range of temperatures we want to consider and the different durations at each temperature to dictate the various cooling schedules we consider."
     ]
    },
    {
     "cell_type": "code",
     "collapsed": false,
     "input": [
      "periods = 15\n",
      "temps = np.array([[60, 120, 240],[30,60,120],[30,60,240],[120,120,240],[60,120,120],[120,120,120]])\n",
      "duration = np.array([[5,5,5],[3,5,7],[3,7,5],[5,7,3],[5,3,7],[7,3,5],[7,5,3]])\n",
      "cooling=[]\n",
      "for i in arange(len(temps)):\n",
      "    for j in arange(len(duration)):\n",
      "        cooling_add=[temps[i,0]]*duration[j,0]+[temps[i,1]]*duration[j,1]+[temps[i,2]]*duration[j,2]\n",
      "        cooling.append(cooling_add)"
     ],
     "language": "python",
     "metadata": {},
     "outputs": [],
     "prompt_number": 4
    },
    {
     "cell_type": "markdown",
     "metadata": {},
     "source": [
      "**Pick Starting Temperature**\n",
      "\n",
      "We choose a starting temperature (tau) and a random model from the set of predictor variables and its AIC value."
     ]
    },
    {
     "cell_type": "code",
     "collapsed": false,
     "input": [
      "tau_start = 10\n",
      "\n",
      "predictors"
     ],
     "language": "python",
     "metadata": {},
     "outputs": [
      {
       "html": [
        "<pre>\n",
        "&lt;class 'pandas.core.frame.DataFrame'&gt;\n",
        "Int64Index: 337 entries, 0 to 336\n",
        "Data columns (total 27 columns):\n",
        "average         337  non-null values\n",
        "obp             337  non-null values\n",
        "runs            337  non-null values\n",
        "hits            337  non-null values\n",
        "doubles         337  non-null values\n",
        "triples         337  non-null values\n",
        "homeruns        337  non-null values\n",
        "rbis            337  non-null values\n",
        "walks           337  non-null values\n",
        "sos             337  non-null values\n",
        "sbs             337  non-null values\n",
        "errors          337  non-null values\n",
        "freeagent       337  non-null values\n",
        "arbitration     337  non-null values\n",
        "runsperso       337  non-null values\n",
        "hitsperso       337  non-null values\n",
        "hrsperso        337  non-null values\n",
        "rbisperso       337  non-null values\n",
        "walksperso      337  non-null values\n",
        "obppererror     337  non-null values\n",
        "runspererror    337  non-null values\n",
        "hitspererror    337  non-null values\n",
        "hrspererror     337  non-null values\n",
        "soserrors       337  non-null values\n",
        "sbsobp          337  non-null values\n",
        "sbsruns         337  non-null values\n",
        "sbshits         337  non-null values\n",
        "dtypes: float64(12), int64(15)\n",
        "</pre>"
       ],
       "metadata": {},
       "output_type": "pyout",
       "prompt_number": 5,
       "text": [
        "<class 'pandas.core.frame.DataFrame'>\n",
        "Int64Index: 337 entries, 0 to 336\n",
        "Data columns (total 27 columns):\n",
        "average         337  non-null values\n",
        "obp             337  non-null values\n",
        "runs            337  non-null values\n",
        "hits            337  non-null values\n",
        "doubles         337  non-null values\n",
        "triples         337  non-null values\n",
        "homeruns        337  non-null values\n",
        "rbis            337  non-null values\n",
        "walks           337  non-null values\n",
        "sos             337  non-null values\n",
        "sbs             337  non-null values\n",
        "errors          337  non-null values\n",
        "freeagent       337  non-null values\n",
        "arbitration     337  non-null values\n",
        "runsperso       337  non-null values\n",
        "hitsperso       337  non-null values\n",
        "hrsperso        337  non-null values\n",
        "rbisperso       337  non-null values\n",
        "walksperso      337  non-null values\n",
        "obppererror     337  non-null values\n",
        "runspererror    337  non-null values\n",
        "hitspererror    337  non-null values\n",
        "hrspererror     337  non-null values\n",
        "soserrors       337  non-null values\n",
        "sbsobp          337  non-null values\n",
        "sbsruns         337  non-null values\n",
        "sbshits         337  non-null values\n",
        "dtypes: float64(12), int64(15)"
       ]
      }
     ],
     "prompt_number": 5
    },
    {
     "cell_type": "markdown",
     "metadata": {},
     "source": [
      "##Part 1a Solution: Varying Cooling Rate and Duration##\n",
      "**Varying Cooling Rate**"
     ]
    },
    {
     "cell_type": "code",
     "collapsed": false,
     "input": [
      "rates = np.linspace(0.1,0.9,num=9)\n",
      "solution_rate=[]\n",
      "aic_best_rate =[]\n",
      "aic_rate=[[]]*len(rates)"
     ],
     "language": "python",
     "metadata": {},
     "outputs": [],
     "prompt_number": 7
    },
    {
     "cell_type": "markdown",
     "metadata": {},
     "source": [
      "** Perform simulated annealing for all rates **"
     ]
    },
    {
     "cell_type": "code",
     "collapsed": false,
     "input": [
      "for k in range(len(rates)):\n",
      "    tau = [tau_start*rates[k]**i for i in range(15)]\n",
      "    aic_values= []\n",
      "    aic_rate[k]=[]\n",
      "    solution_current = solution_best = np.random.binomial(1, 0.5, ncols).astype(bool)\n",
      "    solution_vars = predictors[predictors.columns[solution_current]]\n",
      "    g = pd.ols(y=logsalary, x=solution_vars)\n",
      "    aic_best = aic(g)\n",
      "    aic_values.append(aic_best)\n",
      "    for j in range(periods):\n",
      "        for i in range(cooling[0][j]): \n",
      "            solution_step = solution_current.copy()\n",
      "            flip = np.random.randint(0, ncols,size = 1)\n",
      "            solution_step[flip[0]] = not solution_current[flip[0]]\n",
      "            solution_vars = predictors[predictors.columns[solution_step]]\n",
      "            g = pd.ols(y=logsalary, x=solution_vars)\n",
      "            aic_step = aic(g)\n",
      "            alpha = min(1, np.exp((aic_values[-1] - aic_step)/tau[j]))\n",
      "            if ((aic_step < aic_values[-1]) or (random.uniform() < alpha)):\n",
      "                # Accept proposed solution\n",
      "                solution_current = solution_step.copy()\n",
      "                aic_values.append(aic_step)\n",
      "                if aic_step < aic_best:\n",
      "                    # Replace previous best with this one\n",
      "                    aic_best = aic_step\n",
      "                    solution_best = solution_step.copy()\n",
      "            else:\n",
      "                # Retain current solution\n",
      "                aic_values.append(aic_values[-1])\n",
      "    aic_rate[k].append(aic_values)\n",
      "    aic_best_rate.append(aic_best)\n",
      "    solution_rate.append(solution_best)"
     ],
     "language": "python",
     "metadata": {},
     "outputs": [],
     "prompt_number": 8
    },
    {
     "cell_type": "markdown",
     "metadata": {},
     "source": [
      "** Results from varying cooling rate **"
     ]
    },
    {
     "cell_type": "code",
     "collapsed": false,
     "input": [
      "# BEST TO USE NUMPY ARRAYS\n",
      "aic_rate = np.array(aic_rate).squeeze()"
     ],
     "language": "python",
     "metadata": {},
     "outputs": [],
     "prompt_number": 19
    },
    {
     "cell_type": "code",
     "collapsed": false,
     "input": [
      "fig, axes = plt.subplots(3, 3, figsize=(12,8))\n",
      "ax = axes.ravel()\n",
      "for i in arange(9):\n",
      "    ax[i].plot(aic_rate[i],'k-')\n",
      "    ax[i].set_title('Cooling Rate = {0}\\nBest AIC: {1:.1f}'.format(rates[i],aic_best_rate[i], \n",
      "            np.where(solution_rate[i]==True)))\n",
      "#     print('Cooling Rate = {0} Best AIC: {1}\\nBest solution: {2}\\nDiscovered at iteration {3}'.format(rates[i],aic_best_rate[i], \n",
      "#             np.where(solution_rate[i]==True),\n",
      "#             np.where(aic_rate[i]==aic_best_rate[i])[0]))\n",
      "    ax[i].plot(np.where(aic_rate[i]==aic_best_rate[i])[0][0], aic_best_rate[i], 'ro')\n"
     ],
     "language": "python",
     "metadata": {},
     "outputs": [
      {
       "metadata": {},
       "output_type": "display_data",
       "png": "[encoded data removed]",
       "text": [
        "<matplotlib.figure.Figure at 0x111ad8310>"
       ]
      }
     ],
     "prompt_number": 46
    },
    {
     "cell_type": "markdown",
     "metadata": {},
     "source": [
      "**Varying Cooling Duration**"
     ]
    },
    {
     "cell_type": "code",
     "collapsed": false,
     "input": [
      "solution_dur=[]\n",
      "aic_best_dur =[]\n",
      "aic_dur=[[]]*size(cooling,0)\n",
      "tau = [tau_start*rates[4]**i for i in range(15)]"
     ],
     "language": "python",
     "metadata": {},
     "outputs": [],
     "prompt_number": 47
    },
    {
     "cell_type": "markdown",
     "metadata": {},
     "source": [
      "** Perform simulated annealing over all cooling durations **"
     ]
    },
    {
     "cell_type": "code",
     "collapsed": false,
     "input": [
      "for k in range(size(cooling,0)):\n",
      "    aic_values= []\n",
      "    aic_dur[k]=[]\n",
      "    solution_current = solution_best = np.random.binomial(1, 0.5, ncols).astype(bool)\n",
      "    solution_vars = predictors[predictors.columns[solution_current]]\n",
      "    g = pd.ols(y=logsalary, x=solution_vars)\n",
      "    aic_best = aic(g)\n",
      "    aic_values.append(aic_best)\n",
      "    for j in range(periods):\n",
      "        for i in range(cooling[k][j]): \n",
      "            solution_step = solution_current.copy()\n",
      "            flip = np.random.randint(0, ncols,size = 1)\n",
      "            solution_step[flip[0]] = not solution_current[flip[0]]\n",
      "            solution_vars = predictors[predictors.columns[solution_step]]\n",
      "            g = pd.ols(y=logsalary, x=solution_vars)\n",
      "            aic_step = aic(g)\n",
      "            alpha = min(1, np.exp((aic_values[-1] - aic_step)/tau[j]))\n",
      "            if ((aic_step < aic_values[-1]) or (random.uniform() < alpha)):\n",
      "                # Accept proposed solution\n",
      "                solution_current = solution_step.copy()\n",
      "                aic_values.append(aic_step)\n",
      "                if aic_step < aic_best:\n",
      "                    # Replace previous best with this one\n",
      "                    aic_best = aic_step\n",
      "                    solution_best = solution_step.copy()\n",
      "            else:\n",
      "                # Retain current solution\n",
      "                aic_values.append(aic_values[-1])\n",
      "    aic_dur[k].append(aic_values)\n",
      "    aic_best_dur.append(aic_best)\n",
      "    solution_dur.append(solution_best)"
     ],
     "language": "python",
     "metadata": {},
     "outputs": [],
     "prompt_number": 48
    },
    {
     "cell_type": "markdown",
     "metadata": {},
     "source": [
      "** Results from Varying Cooling Duration **"
     ]
    },
    {
     "cell_type": "code",
     "collapsed": false,
     "input": [
      "aic_dur = np.array(aic_dur).squeeze()"
     ],
     "language": "python",
     "metadata": {},
     "outputs": [],
     "prompt_number": 56
    },
    {
     "cell_type": "code",
     "collapsed": false,
     "input": [
      "fig, axes = plt.subplots(3, 3, figsize=(12,8))\n",
      "ax = axes.ravel()\n",
      "for i in arange(9):\n",
      "    ax[i].plot(aic_dur[i],'k-')\n",
      "#     ax[i].set_title('Cooling Duration = {0}\\nBest AIC: {1:.1f}'.format(cooling[i],aic_best_dur[i], \n",
      "#             np.where(solution_dur[i]==True)))\n",
      "#     print('Cooling Rate = {0} Best AIC: {1}\\nBest solution: {2}\\nDiscovered at iteration {3}'.format(rates[i],aic_best_rate[i], \n",
      "#             np.where(solution_rate[i]==True),\n",
      "#             np.where(aic_rate[i]==aic_best_rate[i])[0]))\n",
      "    ax[i].plot(np.where(aic_dur[i]==aic_best_dur[i])[0][0], aic_best_dur[i], 'ro')\n"
     ],
     "language": "python",
     "metadata": {},
     "outputs": [
      {
       "metadata": {},
       "output_type": "display_data",
       "png": "[encoded data removed]",
       "text": [
        "<matplotlib.figure.Figure at 0x11ae38290>"
       ]
      }
     ],
     "prompt_number": 57
    },
    {
     "cell_type": "code",
     "collapsed": false,
     "input": [
      "# fig, ax = subplots(3, 3)\n",
      "# for i in arange(9):\n",
      "#     (ax[i]).plot(arange(size(aic_rate[i],1)).reshape(1,size(aic_rate[i],1)),aic_rate[i],'k*')\n",
      "#     print('Cooling Rate = {0} Best AIC: {1}\\nBest solution: {2}\\nDiscovered at iteration {3}'.format(rates[i],aic_best_rate[i], \n",
      "#             np.where(solution_rate[i]==True),\n",
      "#             np.where(aic_rate[i]==aic_best_rate[i])[1][0]))\n",
      "# #     ax.plot(np.where(aic_rate[i]==aic_best_rate[i])[1][0], aic_best_rate[i], 'ro')"
     ],
     "language": "python",
     "metadata": {},
     "outputs": [],
     "prompt_number": 11
    },
    {
     "cell_type": "markdown",
     "metadata": {},
     "source": [
      "A LITTLE DISCUSSION OF THE RESULTS WOULD BE HELPFUL."
     ]
    },
    {
     "cell_type": "markdown",
     "metadata": {},
     "source": [
      "## Part 1b Solution\n",
      "\n",
      "For one cooling rate and duration, compare the effect of using a 2 neighborhood vs 3 neighborhood simulated annealing approach.\n"
     ]
    },
    {
     "cell_type": "code",
     "collapsed": false,
     "input": [
      "tau = [tau_start*rates[8]**i for i in range(15)]\n",
      "aic_values= []\n",
      "solution_current = solution_best = np.random.binomial(1, 0.5, ncols).astype(bool)\n",
      "solution_vars = predictors[predictors.columns[solution_current]]\n",
      "g = pd.ols(y=logsalary, x=solution_vars)\n",
      "aic_best = aic(g)\n",
      "aic_values.append(aic_best)"
     ],
     "language": "python",
     "metadata": {},
     "outputs": [],
     "prompt_number": 25
    },
    {
     "cell_type": "markdown",
     "metadata": {},
     "source": [
      "** 2 Neighborhood Simulated Annealing**"
     ]
    },
    {
     "cell_type": "code",
     "collapsed": false,
     "input": [
      "for j in range(periods):\n",
      "    for i in range(cooling[0][j]): \n",
      "        solution_step = solution_current.copy()\n",
      "        flip = np.random.randint(0, ncols,size = 2)\n",
      "        solution_step[flip[0]] = not solution_current[flip[0]]\n",
      "        solution_step[flip[1]] = not solution_current[flip[1]]\n",
      "        solution_vars = predictors[predictors.columns[solution_step]]\n",
      "        g = pd.ols(y=logsalary, x=solution_vars)\n",
      "        aic_step = aic(g)\n",
      "        alpha = min(1, np.exp((aic_values[-1] - aic_step)/tau[j]))\n",
      "        if ((aic_step < aic_values[-1]) or (random.uniform() < alpha)):\n",
      "            # Accept proposed solution\n",
      "            solution_current = solution_step.copy()\n",
      "            aic_values.append(aic_step)\n",
      "            if aic_step < aic_best:\n",
      "                # Replace previous best with this one\n",
      "                aic_best = aic_step\n",
      "                solution_best = solution_step.copy()\n",
      "        else:\n",
      "            # Retain current solution\n",
      "            aic_values.append(aic_values[-1])"
     ],
     "language": "python",
     "metadata": {},
     "outputs": [],
     "prompt_number": 26
    },
    {
     "cell_type": "code",
     "collapsed": false,
     "input": [
      "plt.plot(aic_values)\n",
      "xlim(0, len(aic_values))\n",
      "xlabel('Iteration'); ylabel('AIC');title('2-neighborhood')\n",
      "print('Best AIC: {0}\\nBest solution: {1}\\nDiscovered at iteration {2}'.format(aic_best, \n",
      "            np.where(solution_best==True),\n",
      "            np.where(aic_values==aic_best)[0][0]))\n",
      "plt.plot(np.where(aic_values==aic_best)[0][0], aic_best, 'ro')"
     ],
     "language": "python",
     "metadata": {},
     "outputs": [
      {
       "output_type": "stream",
       "stream": "stdout",
       "text": [
        "Best AIC: -416.239183989\n",
        "Best solution: (array([ 1,  2,  5,  7,  9, 12, 13, 14, 15, 16, 18, 23, 24, 25]),)\n",
        "Discovered at iteration 335\n"
       ]
      },
      {
       "metadata": {},
       "output_type": "pyout",
       "prompt_number": 27,
       "text": [
        "[<matplotlib.lines.Line2D at 0x1095edc10>]"
       ]
      },
      {
       "metadata": {},
       "output_type": "display_data",
       "png": "[encoded data removed]",
       "text": [
        "<matplotlib.figure.Figure at 0x10aa10fd0>"
       ]
      }
     ],
     "prompt_number": 27
    },
    {
     "cell_type": "markdown",
     "metadata": {},
     "source": [
      "** 3 Neighborhood Simulated Annealing**"
     ]
    },
    {
     "cell_type": "code",
     "collapsed": false,
     "input": [
      "tau = [tau_start*rates[8]**i for i in range(15)]\n",
      "aic_values= []\n",
      "solution_current = solution_best = np.random.binomial(1, 0.5, ncols).astype(bool)\n",
      "solution_vars = predictors[predictors.columns[solution_current]]\n",
      "g = pd.ols(y=logsalary, x=solution_vars)\n",
      "aic_best = aic(g)\n",
      "aic_values.append(aic_best)"
     ],
     "language": "python",
     "metadata": {},
     "outputs": [],
     "prompt_number": 28
    },
    {
     "cell_type": "code",
     "collapsed": false,
     "input": [
      "for j in range(periods):\n",
      "    for i in range(cooling[0][j]): \n",
      "        solution_step = solution_current.copy()\n",
      "        flip = np.random.randint(0, ncols,size = 3)\n",
      "        solution_step[flip[0]] = not solution_current[flip[0]]\n",
      "        solution_step[flip[1]] = not solution_current[flip[1]]\n",
      "        solution_step[flip[2]] = not solution_current[flip[2]]\n",
      "        solution_vars = predictors[predictors.columns[solution_step]]\n",
      "        g = pd.ols(y=logsalary, x=solution_vars)\n",
      "        aic_step = aic(g)\n",
      "        alpha = min(1, np.exp((aic_values[-1] - aic_step)/tau[j]))\n",
      "        if ((aic_step < aic_values[-1]) or (random.uniform() < alpha)):\n",
      "            # Accept proposed solution\n",
      "            solution_current = solution_step.copy()\n",
      "            aic_values.append(aic_step)\n",
      "            if aic_step < aic_best:\n",
      "                # Replace previous best with this one\n",
      "                aic_best = aic_step\n",
      "                solution_best = solution_step.copy()\n",
      "        else:\n",
      "            # Retain current solution\n",
      "            aic_values.append(aic_values[-1])"
     ],
     "language": "python",
     "metadata": {},
     "outputs": [],
     "prompt_number": 29
    },
    {
     "cell_type": "code",
     "collapsed": false,
     "input": [
      "plt.plot(aic_values)\n",
      "xlim(0, len(aic_values))\n",
      "xlabel('Iteration'); ylabel('AIC'); title('3-neighborhood')\n",
      "print('Best AIC: {0}\\nBest solution: {1}\\nDiscovered at iteration {2}'.format(aic_best, \n",
      "            np.where(solution_best==True),\n",
      "            np.where(aic_values==aic_best)[0][0]))\n",
      "plt.plot(np.where(aic_values==aic_best)[0][0], aic_best, 'ro')"
     ],
     "language": "python",
     "metadata": {},
     "outputs": [
      {
       "output_type": "stream",
       "stream": "stdout",
       "text": [
        "Best AIC: -415.554740777\n",
        "Best solution: (array([ 0,  2,  7,  9, 12, 13, 14, 15, 19, 21, 23, 24, 26]),)\n",
        "Discovered at iteration 1089\n"
       ]
      },
      {
       "metadata": {},
       "output_type": "pyout",
       "prompt_number": 30,
       "text": [
        "[<matplotlib.lines.Line2D at 0x10ac9c8d0>]"
       ]
      },
      {
       "metadata": {},
       "output_type": "display_data",
       "png": "[encoded data removed]",
       "text": [
        "<matplotlib.figure.Figure at 0x1095d0b50>"
       ]
      }
     ],
     "prompt_number": 30
    },
    {
     "cell_type": "markdown",
     "metadata": {},
     "source": [
      "## Part 2 Solution ##\n",
      "** Fitness **"
     ]
    },
    {
     "cell_type": "code",
     "collapsed": false,
     "input": [
      "def calculate_fitness(aic_values):\n",
      "    P = len(aic_values)\n",
      "    aic_rank = (-aic_values).argsort().argsort()+1.\n",
      "    return 2.*aic_rank/(P*(P+1.))"
     ],
     "language": "python",
     "metadata": {},
     "outputs": [],
     "prompt_number": 50
    },
    {
     "cell_type": "markdown",
     "metadata": {},
     "source": [
      "** Population sizes and mutation rates considered **"
     ]
    },
    {
     "cell_type": "code",
     "collapsed": false,
     "input": [
      "pop_size = [6,10,20,50,100]\n",
      "iterations = 100\n",
      "mutation_rate = [0.005,0.01,.02,0.05,0.1,0.2,0.5]"
     ],
     "language": "python",
     "metadata": {},
     "outputs": [],
     "prompt_number": 51
    },
    {
     "cell_type": "markdown",
     "metadata": {},
     "source": [
      "##Part 2a: Changing Mutation Rates##"
     ]
    },
    {
     "cell_type": "code",
     "collapsed": false,
     "input": [
      "aic_best_mut = [[]]*len(mutation_rate)\n",
      "best_solution_mut = [[]]*len(mutation_rate)\n",
      "aic_history_mut = [[]]*len(mutation_rate)"
     ],
     "language": "python",
     "metadata": {},
     "outputs": [],
     "prompt_number": 52
    },
    {
     "cell_type": "markdown",
     "metadata": {},
     "source": [
      "** Initialize Genotype for a Population Size of 20 **"
     ]
    },
    {
     "cell_type": "code",
     "collapsed": false,
     "input": [
      "current_gen = np.random.binomial(1, 0.5, pop_size[2]*ncols).reshape((pop_size[2], ncols))"
     ],
     "language": "python",
     "metadata": {},
     "outputs": [],
     "prompt_number": 53
    },
    {
     "cell_type": "markdown",
     "metadata": {},
     "source": [
      "** Use Genetic Algorithm over all Mutation Rates **"
     ]
    },
    {
     "cell_type": "code",
     "collapsed": false,
     "input": [
      "for j in arange(len(mutation_rate)):\n",
      "    aic_best=[]\n",
      "    best_solution=[]\n",
      "    aic_history = []\n",
      "    for i in range(iterations):\n",
      "        # Get phenotype\n",
      "        current_phe = [predictors[predictors.columns[g.astype(bool)]] for g in current_gen]\n",
      "        # Calculate AIC\n",
      "        current_aic = np.array([aic(pd.ols(y=logsalary, x=x)) for x in current_phe])\n",
      "        # Get lowest AIC\n",
      "        aic_best.append(current_aic[np.argmin(current_aic)])\n",
      "        best_solution.append(current_gen[np.argmin(current_aic)])\n",
      "        \n",
      "        # Calculate fitness according to AIC rank\n",
      "        fitness = calculate_fitness(current_aic)\n",
      "        \n",
      "        # Choose first parents randomly\n",
      "        moms = np.random.choice(range(pop_size[2]), size=pop_size[2]/2,p=fitness)\n",
      "        # Choose second parents randomly\n",
      "        dads = np.random.choice(range(pop_size[2]), size=pop_size[2]/2)\n",
      "        \n",
      "        next_gen = []\n",
      "        for x,y in zip(current_gen[moms], current_gen[dads]):\n",
      "            # Crossover\n",
      "            cross = np.random.randint(0, ncols)\n",
      "            child1 = np.r_[x[:cross], y[cross:]]\n",
      "            child2 = np.r_[y[:cross], x[cross:]]\n",
      "            # Mutate\n",
      "            m1 = np.random.binomial(1, mutation_rate[j], size=ncols).astype(bool)\n",
      "            child1[m1] = abs(child1[m1]-1)\n",
      "            m2 = np.random.binomial(1, mutation_rate[j], size=ncols)\n",
      "            child2[m2] = abs(child1[m2]-1)\n",
      "            next_gen += [child1, child2]\n",
      "            \n",
      "        # Increment generation\n",
      "        current_gen = np.array(next_gen)\n",
      "    #   Store AIC values\n",
      "    aic_best_mut[j].append(aic_best)\n",
      "    best_solution_mut[j].append(best_solution)\n",
      "    aic_history_mut[j].append(aic_best)"
     ],
     "language": "python",
     "metadata": {},
     "outputs": [],
     "prompt_number": 61
    },
    {
     "cell_type": "markdown",
     "metadata": {},
     "source": [
      "** Results for Changing Mutation Rates **"
     ]
    },
    {
     "cell_type": "code",
     "collapsed": false,
     "input": [],
     "language": "python",
     "metadata": {},
     "outputs": [],
     "prompt_number": 79
    },
    {
     "cell_type": "markdown",
     "metadata": {},
     "source": [
      "## Part 2b: Changing Population Size ##"
     ]
    },
    {
     "cell_type": "code",
     "collapsed": false,
     "input": [
      "aic_best_pop = [[]]*len(pop_size)\n",
      "best_solution_pop = [[]]*len(pop_size)\n",
      "aic_history_pop = [[]]*len(pop_size)"
     ],
     "language": "python",
     "metadata": {},
     "outputs": [],
     "prompt_number": 80
    },
    {
     "cell_type": "markdown",
     "metadata": {},
     "source": [
      "** Use Genetic Algorithm over all Population Sizes **"
     ]
    },
    {
     "cell_type": "code",
     "collapsed": false,
     "input": [
      "for j in arange(len(pop_size)):\n",
      "    # Initialize genotype\n",
      "    current_gen = np.random.binomial(1, 0.5, pop_size[j]*ncols).reshape((pop_size[j], ncols))\n",
      "    aic_best=[]\n",
      "    best_solution=[]\n",
      "    aic_history = []\n",
      "    for i in range(iterations):\n",
      "        \n",
      "        # Get phenotype\n",
      "        current_phe = [predictors[predictors.columns[g.astype(bool)]] for g in current_gen]\n",
      "        # Calculate AIC\n",
      "        current_aic = np.array([aic(pd.ols(y=logsalary, x=x)) for x in current_phe])\n",
      "        # Get lowest AIC\n",
      "        aic_best.append(current_aic[np.argmin(current_aic)])\n",
      "        best_solution.append(current_gen[np.argmin(current_aic)])\n",
      "        \n",
      "        # Calculate fitness according to AIC rank\n",
      "        fitness = calculate_fitness(current_aic)\n",
      "        \n",
      "        # Choose first parents randomly\n",
      "        moms = np.random.choice(range(pop_size[j]), size=pop_size[j]/2,p=fitness)\n",
      "        # Choose second parents randomly\n",
      "        dads = np.random.choice(range(pop_size[j]), size=pop_size[j]/2)\n",
      "        \n",
      "        next_gen = []\n",
      "        for x,y in zip(current_gen[moms], current_gen[dads]):\n",
      "            # Crossover\n",
      "            cross = np.random.randint(0, ncols)\n",
      "            child1 = np.r_[x[:cross], y[cross:]]\n",
      "            child2 = np.r_[y[:cross], x[cross:]]\n",
      "            # Mutate\n",
      "            m1 = np.random.binomial(1, mutation_rate[2], size=ncols).astype(bool)\n",
      "            child1[m1] = abs(child1[m1]-1)\n",
      "            m2 = np.random.binomial(1, mutation_rate[2], size=ncols)\n",
      "            child2[m2] = abs(child1[m2]-1)\n",
      "            next_gen += [child1, child2]\n",
      "            \n",
      "        # Increment generation\n",
      "        current_gen = np.array(next_gen)\n",
      "        #   Store AIC values\n",
      "        aic_best_pop[j].append(aic_best)\n",
      "        best_solution_pop[j].append(best_solution)\n",
      "        aic_history_pop[j].append(current_aic)"
     ],
     "language": "python",
     "metadata": {},
     "outputs": [],
     "prompt_number": 81
    },
    {
     "cell_type": "markdown",
     "metadata": {},
     "source": [
      "** Results for Changing Population Size **"
     ]
    },
    {
     "cell_type": "code",
     "collapsed": false,
     "input": [],
     "language": "python",
     "metadata": {},
     "outputs": []
    },
    {
     "cell_type": "markdown",
     "metadata": {},
     "source": [
      "## Part 2c: Independent Selection where Both Parents are Based on Fitness"
     ]
    },
    {
     "cell_type": "code",
     "collapsed": false,
     "input": [
      "aic_best_fit = [[]]*len(pop_size)\n",
      "best_solution_fit = [[]]*len(pop_size)\n",
      "aic_history_fit = [[]]*len(pop_size)"
     ],
     "language": "python",
     "metadata": {},
     "outputs": [],
     "prompt_number": 39
    },
    {
     "cell_type": "markdown",
     "metadata": {},
     "source": [
      "** Use Genetic Algorithm with Both Parents Selected on Fitness over all Population Sizes**"
     ]
    },
    {
     "cell_type": "code",
     "collapsed": false,
     "input": [
      "for j in arange(len(pop_size)):\n",
      "    # Initialize genotype\n",
      "    current_gen = np.random.binomial(1, 0.5, pop_size[j]*ncols).reshape((pop_size[j], ncols))\n",
      "    aic_best=[]\n",
      "    best_solution=[]\n",
      "    aic_history = []\n",
      "    for i in range(iterations):\n",
      "        \n",
      "        # Get phenotype\n",
      "        current_phe = [predictors[predictors.columns[g.astype(bool)]] for g in current_gen]\n",
      "        # Calculate AIC\n",
      "        current_aic = np.array([aic(pd.ols(y=logsalary, x=x)) for x in current_phe])\n",
      "        # Get lowest AIC\n",
      "        aic_best.append(current_aic[np.argmin(current_aic)])\n",
      "        best_solution.append(current_gen[np.argmin(current_aic)])\n",
      "        \n",
      "        # Calculate fitness according to AIC rank\n",
      "        fitness = calculate_fitness(current_aic)\n",
      "        \n",
      "        # Choose first parents randomly\n",
      "        moms = np.random.choice(range(pop_size[j]), size=pop_size[j]/2,p=fitness)\n",
      "        # Choose second parents randomly\n",
      "        dads = np.random.choice(range(pop_size[j]), size=pop_size[j]/2,p=fitness)\n",
      "        \n",
      "        next_gen = []\n",
      "        for x,y in zip(current_gen[moms], current_gen[dads]):\n",
      "            # Crossover\n",
      "            cross = np.random.randint(0, ncols)\n",
      "            child1 = np.r_[x[:cross], y[cross:]]\n",
      "            child2 = np.r_[y[:cross], x[cross:]]\n",
      "            # Mutate\n",
      "            m1 = np.random.binomial(1, mutation_rate[2], size=ncols).astype(bool)\n",
      "            child1[m1] = abs(child1[m1]-1)\n",
      "            m2 = np.random.binomial(1, mutation_rate[2], size=ncols)\n",
      "            child2[m2] = abs(child1[m2]-1)\n",
      "            next_gen += [child1, child2]\n",
      "            \n",
      "        # Increment generation\n",
      "        current_gen = np.array(next_gen)\n",
      "        #   Store AIC values\n",
      "        aic_best_fit[j].append(aic_best)\n",
      "        best_solution_fit[j].append(best_solution)\n",
      "        aic_history_fit[j].append(current_aic)"
     ],
     "language": "python",
     "metadata": {},
     "outputs": [],
     "prompt_number": 41
    },
    {
     "cell_type": "markdown",
     "metadata": {},
     "source": [
      "** Results with Both Parents Selected Based on Fitness **"
     ]
    },
    {
     "cell_type": "markdown",
     "metadata": {},
     "source": [
      "YOU NEED TO VISUALIZE AND INTERPRET THE RESULTS.\n",
      "\n",
      "20/25"
     ]
    }
   ],
   "metadata": {}
  }
 ]
}