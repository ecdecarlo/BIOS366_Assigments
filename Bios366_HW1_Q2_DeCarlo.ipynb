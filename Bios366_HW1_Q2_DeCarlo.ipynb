{
 "metadata": {
  "name": ""
 },
 "nbformat": 3,
 "nbformat_minor": 0,
 "worksheets": [
  {
   "cells": [
    {
     "cell_type": "code",
     "collapsed": false,
     "input": [
      "import pandas as pd\n",
      "import numpy as np\n",
      "import matplotlib.pyplot as plt"
     ],
     "language": "python",
     "metadata": {},
     "outputs": [],
     "prompt_number": 1
    },
    {
     "cell_type": "markdown",
     "metadata": {},
     "source": [
      "# Homework 1\n",
      "## Question 2\n",
      "\n",
      "1. Implement simulated annealing for minimizing the AIC for the baseball salary regression problem. Model your algorithm on the example given in class.\n",
      "\n",
      "    1a. Compare the effects of different cooling schedules(different temperatures and different durations at each temperature)\n",
      "    \n",
      "    1b. Compare the effect of a proposal distribution that is discrete uniform over 2-neighborhoods versus one that is discrete uniform over 3-neighborhoods. //\n",
      "\n",
      "2. Implement a genetic algorithm for minimizing the AIC for the baseball salary regression problem Model your algorithm on Example 3.5.\n",
      "\n",
      "    2a. Compare the effects of using different mutation rates.\n",
      "    \n",
      "    2b. Compare the effects of using different generation sizes.\n",
      "    \n",
      "    2c. Instead of the selection mechanism used in the class example. try using independent selection of one parent with probability proporational to fitness and the other completely at random.\n",
      "    \n",
      "    \n",
      "## Part 1 Solution\n",
      "\n",
      "**Import Baseball Data**"
     ]
    },
    {
     "cell_type": "code",
     "collapsed": false,
     "input": [
      "baseball = pd.read_table(\"/Users/ecdecarlo/Documents/Classes/Bios366/data/textbook/baseball.dat\", sep='\\s+')\n",
      "\n",
      "logsalary = baseball.salary.apply(np.log)\n",
      "predictors = baseball.ix[:,'average':]\n",
      "nrows,ncols = predictors.shape"
     ],
     "language": "python",
     "metadata": {},
     "outputs": [],
     "prompt_number": 2
    },
    {
     "cell_type": "markdown",
     "metadata": {},
     "source": [
      "**Define AIC**\n",
      "\n",
      "$$ AIC = N\\log[RSS/N]+2*(s+2) $$\n",
      "\n",
      "where $N$ is the sample size, $s$ is the number of predictors in the model, and $RSS$ is the sum of squared residuals. These parameters can all be embedded into one Pandas DataFrame $g$ with the labels $nobs$, $resid$, and $beta$ which are outputs of the Ordinary Least Squares module in Pandas (pd.ols).\n"
     ]
    },
    {
     "cell_type": "code",
     "collapsed": false,
     "input": [
      "aic = lambda g: g.nobs * np.log((g.resid**2).sum()/g.nobs) + 2*len(g.beta)"
     ],
     "language": "python",
     "metadata": {},
     "outputs": [],
     "prompt_number": 3
    },
    {
     "cell_type": "markdown",
     "metadata": {},
     "source": [
      "**Define Cooling Schedules**\n",
      "\n",
      "Here we define the range of temperatures we want to consider and the different durations at each temperature to dictate the various cooling schedules we consider."
     ]
    },
    {
     "cell_type": "code",
     "collapsed": false,
     "input": [
      "periods = 15\n",
      "temps = np.array([[60, 120, 240],[30,60,120],[30,60,240],[120,120,240],[60,120,120],[120,120,120]])\n",
      "duration = np.array([[5,5,5],[3,5,7],[3,7,5],[5,7,3],[5,3,7],[7,3,5],[7,5,3]])\n",
      "cooling=[]\n",
      "for i in arange(len(temps)):\n",
      "    for j in arange(len(duration)):\n",
      "        cooling_add=[temps[i,0]]*duration[j,0]+[temps[i,1]]*duration[j,1]+[temps[i,2]]*duration[j,2]\n",
      "        cooling.append(cooling_add)"
     ],
     "language": "python",
     "metadata": {},
     "outputs": [],
     "prompt_number": 16
    },
    {
     "cell_type": "markdown",
     "metadata": {},
     "source": [
      "**Pick Starting Temperature**\n",
      "\n",
      "We choose a starting temperature (tau) and a random model from the set of predictor variables and its AIC value."
     ]
    },
    {
     "cell_type": "code",
     "collapsed": false,
     "input": [
      "tau_start = 10"
     ],
     "language": "python",
     "metadata": {},
     "outputs": [],
     "prompt_number": 17
    },
    {
     "cell_type": "markdown",
     "metadata": {},
     "source": [
      "##Part 1a Solution: Varying Cooling Rate and Duration##\n",
      "**Varying Cooling Rate**"
     ]
    },
    {
     "cell_type": "code",
     "collapsed": false,
     "input": [
      "rates = np.linspace(0.1,0.9,num=9)\n",
      "solution_rate=[]\n",
      "aic_best_rate =[]\n",
      "aic_rate=[[]]*len(rates)"
     ],
     "language": "python",
     "metadata": {},
     "outputs": [],
     "prompt_number": 18
    },
    {
     "cell_type": "code",
     "collapsed": false,
     "input": [
      "for k in range(len(rates)):\n",
      "    tau = [tau_start*rates[k]**i for i in range(15)]\n",
      "    aic_values= []\n",
      "    aic_rate[k]=[]\n",
      "    solution_current = solution_best = np.random.binomial(1, 0.5, ncols).astype(bool)\n",
      "    solution_vars = predictors[predictors.columns[solution_current]]\n",
      "    g = pd.ols(y=logsalary, x=solution_vars)\n",
      "    aic_best = aic(g)\n",
      "    aic_values.append(aic_best)\n",
      "    for j in range(periods):\n",
      "        for i in range(cooling[0][j]): \n",
      "            solution_step = solution_current.copy()\n",
      "            flip = np.random.randint(0, ncols,size = 1)\n",
      "            solution_step[flip[0]] = not solution_current[flip[0]]\n",
      "            solution_vars = predictors[predictors.columns[solution_step]]\n",
      "            g = pd.ols(y=logsalary, x=solution_vars)\n",
      "            aic_step = aic(g)\n",
      "            alpha = min(1, np.exp((aic_values[-1] - aic_step)/tau[j]))\n",
      "            if ((aic_step < aic_values[-1]) or (random.uniform() < alpha)):\n",
      "                # Accept proposed solution\n",
      "                solution_current = solution_step.copy()\n",
      "                aic_values.append(aic_step)\n",
      "                if aic_step < aic_best:\n",
      "                    # Replace previous best with this one\n",
      "                    aic_best = aic_step\n",
      "                    solution_best = solution_step.copy()\n",
      "            else:\n",
      "                # Retain current solution\n",
      "                aic_values.append(aic_values[-1])\n",
      "    aic_rate[k].append(aic_values)\n",
      "    aic_best_rate.append(aic_best)\n",
      "    solution_rate.append(solution_best)"
     ],
     "language": "python",
     "metadata": {},
     "outputs": [],
     "prompt_number": 19
    },
    {
     "cell_type": "code",
     "collapsed": false,
     "input": [
      "# fig, ax = subplots(3, 3)\n",
      "# for i in arange(9):\n",
      "#     (ax[i]).plot(arange(size(aic_rate[i],1)).reshape(1,size(aic_rate[i],1)),aic_rate[i],'k*')\n",
      "#     print('Cooling Rate = {0} Best AIC: {1}\\nBest solution: {2}\\nDiscovered at iteration {3}'.format(rates[i],aic_best_rate[i], \n",
      "#             np.where(solution_rate[i]==True),\n",
      "#             np.where(aic_rate[i]==aic_best_rate[i])[1][0]))\n",
      "# #     ax.plot(np.where(aic_rate[i]==aic_best_rate[i])[1][0], aic_best_rate[i], 'ro')\n"
     ],
     "language": "python",
     "metadata": {},
     "outputs": [],
     "prompt_number": 14
    },
    {
     "cell_type": "markdown",
     "metadata": {},
     "source": [
      "**Varying Duration**"
     ]
    },
    {
     "cell_type": "code",
     "collapsed": false,
     "input": [
      "solution_dur=[]\n",
      "aic_best_dur =[]\n",
      "aic_dur=[[]]*size(cooling,0)\n",
      "tau = [tau_start*rates[4]**i for i in range(15)]"
     ],
     "language": "python",
     "metadata": {},
     "outputs": [],
     "prompt_number": 20
    },
    {
     "cell_type": "code",
     "collapsed": false,
     "input": [
      "for k in range(size(cooling,0)):\n",
      "    aic_values= []\n",
      "    aic_dur[k]=[]\n",
      "    solution_current = solution_best = np.random.binomial(1, 0.5, ncols).astype(bool)\n",
      "    solution_vars = predictors[predictors.columns[solution_current]]\n",
      "    g = pd.ols(y=logsalary, x=solution_vars)\n",
      "    aic_best = aic(g)\n",
      "    aic_values.append(aic_best)\n",
      "    for j in range(periods):\n",
      "        for i in range(cooling[k][j]): \n",
      "            solution_step = solution_current.copy()\n",
      "            flip = np.random.randint(0, ncols,size = 1)\n",
      "            solution_step[flip[0]] = not solution_current[flip[0]]\n",
      "            solution_vars = predictors[predictors.columns[solution_step]]\n",
      "            g = pd.ols(y=logsalary, x=solution_vars)\n",
      "            aic_step = aic(g)\n",
      "            alpha = min(1, np.exp((aic_values[-1] - aic_step)/tau[j]))\n",
      "            if ((aic_step < aic_values[-1]) or (random.uniform() < alpha)):\n",
      "                # Accept proposed solution\n",
      "                solution_current = solution_step.copy()\n",
      "                aic_values.append(aic_step)\n",
      "                if aic_step < aic_best:\n",
      "                    # Replace previous best with this one\n",
      "                    aic_best = aic_step\n",
      "                    solution_best = solution_step.copy()\n",
      "            else:\n",
      "                # Retain current solution\n",
      "                aic_values.append(aic_values[-1])\n",
      "    aic_dur[k].append(aic_values)\n",
      "    aic_best_dur.append(aic_best)\n",
      "    solution_dur.append(solution_best)"
     ],
     "language": "python",
     "metadata": {},
     "outputs": [],
     "prompt_number": 22
    },
    {
     "cell_type": "markdown",
     "metadata": {},
     "source": [
      "## Part 1b Solution\n"
     ]
    },
    {
     "cell_type": "code",
     "collapsed": false,
     "input": [
      "tau = [tau_start*rates[4]**i for i in range(15)]\n",
      "aic_values= []\n",
      "solution_current = solution_best = np.random.binomial(1, 0.5, ncols).astype(bool)\n",
      "solution_vars = predictors[predictors.columns[solution_current]]\n",
      "g = pd.ols(y=logsalary, x=solution_vars)\n",
      "aic_best = aic(g)\n",
      "aic_values.append(aic_best)"
     ],
     "language": "python",
     "metadata": {},
     "outputs": [],
     "prompt_number": 23
    },
    {
     "cell_type": "markdown",
     "metadata": {},
     "source": [
      "** 2 Neighborhood**"
     ]
    },
    {
     "cell_type": "code",
     "collapsed": false,
     "input": [
      "for j in range(periods):\n",
      "    for i in range(cooling[0][j]): \n",
      "        solution_step = solution_current.copy()\n",
      "        flip = np.random.randint(0, ncols,size = 2)\n",
      "        solution_step[flip[0]] = not solution_current[flip[0]]\n",
      "        solution_step[flip[1]] = not solution_current[flip[1]]\n",
      "        solution_vars = predictors[predictors.columns[solution_step]]\n",
      "        g = pd.ols(y=logsalary, x=solution_vars)\n",
      "        aic_step = aic(g)\n",
      "        alpha = min(1, np.exp((aic_values[-1] - aic_step)/tau[j]))\n",
      "        if ((aic_step < aic_values[-1]) or (random.uniform() < alpha)):\n",
      "            # Accept proposed solution\n",
      "            solution_current = solution_step.copy()\n",
      "            aic_values.append(aic_step)\n",
      "            if aic_step < aic_best:\n",
      "                # Replace previous best with this one\n",
      "                aic_best = aic_step\n",
      "                solution_best = solution_step.copy()\n",
      "        else:\n",
      "            # Retain current solution\n",
      "            aic_values.append(aic_values[-1])"
     ],
     "language": "python",
     "metadata": {},
     "outputs": [],
     "prompt_number": 24
    },
    {
     "cell_type": "code",
     "collapsed": false,
     "input": [
      "plt.plot(aic_values)\n",
      "xlim(0, len(aic_values))\n",
      "xlabel('Iteration'); ylabel('AIC')\n",
      "print('Best AIC: {0}\\nBest solution: {1}\\nDiscovered at iteration {2}'.format(aic_best, \n",
      "            np.where(solution_best==True),\n",
      "            np.where(aic_values==aic_best)[0][0]))\n",
      "plt.plot(np.where(aic_values==aic_best)[0][0], aic_best, 'ro')"
     ],
     "language": "python",
     "metadata": {},
     "outputs": [
      {
       "output_type": "stream",
       "stream": "stdout",
       "text": [
        "Best AIC: -418.9420793\n",
        "Best solution: (array([ 0,  2,  5,  7,  9, 12, 13, 14, 15, 23, 24, 25]),)\n",
        "Discovered at iteration 1255\n"
       ]
      },
      {
       "metadata": {},
       "output_type": "pyout",
       "prompt_number": 25,
       "text": [
        "[<matplotlib.lines.Line2D at 0x1083a1850>]"
       ]
      },
      {
       "metadata": {},
       "output_type": "display_data",
       "png": "[encoded data removed]",
       "text": [
        "<matplotlib.figure.Figure at 0x1083a1350>"
       ]
      }
     ],
     "prompt_number": 25
    },
    {
     "cell_type": "markdown",
     "metadata": {},
     "source": [
      "** 3 Neighborhood**"
     ]
    },
    {
     "cell_type": "code",
     "collapsed": false,
     "input": [
      "tau = [tau_start*rates[4]**i for i in range(15)]\n",
      "aic_values= []\n",
      "solution_current = solution_best = np.random.binomial(1, 0.5, ncols).astype(bool)\n",
      "solution_vars = predictors[predictors.columns[solution_current]]\n",
      "g = pd.ols(y=logsalary, x=solution_vars)\n",
      "aic_best = aic(g)\n",
      "aic_values.append(aic_best)"
     ],
     "language": "python",
     "metadata": {},
     "outputs": [],
     "prompt_number": 32
    },
    {
     "cell_type": "code",
     "collapsed": false,
     "input": [
      "for j in range(periods):\n",
      "    for i in range(cooling[0][j]): \n",
      "        solution_step = solution_current.copy()\n",
      "        flip = np.random.randint(0, ncols,size = 3)\n",
      "        solution_step[flip[0]] = not solution_current[flip[0]]\n",
      "        solution_step[flip[1]] = not solution_current[flip[1]]\n",
      "        solution_step[flip[2]] = not solution_current[flip[2]]\n",
      "        solution_vars = predictors[predictors.columns[solution_step]]\n",
      "        g = pd.ols(y=logsalary, x=solution_vars)\n",
      "        aic_step = aic(g)\n",
      "        alpha = min(1, np.exp((aic_values[-1] - aic_step)/tau[j]))\n",
      "        if ((aic_step < aic_values[-1]) or (random.uniform() < alpha)):\n",
      "            # Accept proposed solution\n",
      "            solution_current = solution_step.copy()\n",
      "            aic_values.append(aic_step)\n",
      "            if aic_step < aic_best:\n",
      "                # Replace previous best with this one\n",
      "                aic_best = aic_step\n",
      "                solution_best = solution_step.copy()\n",
      "        else:\n",
      "            # Retain current solution\n",
      "            aic_values.append(aic_values[-1])"
     ],
     "language": "python",
     "metadata": {},
     "outputs": [],
     "prompt_number": 33
    },
    {
     "cell_type": "code",
     "collapsed": false,
     "input": [
      "plt.plot(aic_values)\n",
      "xlim(0, len(aic_values))\n",
      "xlabel('Iteration'); ylabel('AIC')\n",
      "print('Best AIC: {0}\\nBest solution: {1}\\nDiscovered at iteration {2}'.format(aic_best, \n",
      "            np.where(solution_best==True),\n",
      "            np.where(aic_values==aic_best)[0][0]))\n",
      "plt.plot(np.where(aic_values==aic_best)[0][0], aic_best, 'ro')"
     ],
     "language": "python",
     "metadata": {},
     "outputs": [
      {
       "output_type": "stream",
       "stream": "stdout",
       "text": [
        "Best AIC: -418.451061905\n",
        "Best solution: (array([ 0,  2,  7,  9, 12, 13, 14, 15, 23, 24, 25]),)\n",
        "Discovered at iteration 550\n"
       ]
      },
      {
       "metadata": {},
       "output_type": "pyout",
       "prompt_number": 34,
       "text": [
        "[<matplotlib.lines.Line2D at 0x10addaa10>]"
       ]
      },
      {
       "metadata": {},
       "output_type": "display_data",
       "png": "[encoded data removed]",
       "text": [
        "<matplotlib.figure.Figure at 0x10addae10>"
       ]
      }
     ],
     "prompt_number": 34
    },
    {
     "cell_type": "markdown",
     "metadata": {},
     "source": [
      "## Part 2 Solution ##\n",
      "** Fitness **"
     ]
    },
    {
     "cell_type": "code",
     "collapsed": false,
     "input": [
      "def calculate_fitness(aic_values):\n",
      "    P = len(aic_values)\n",
      "    aic_rank = (-aic_values).argsort().argsort()+1.\n",
      "    return 2.*aic_rank/(P*(P+1.))"
     ],
     "language": "python",
     "metadata": {},
     "outputs": [],
     "prompt_number": 35
    },
    {
     "cell_type": "code",
     "collapsed": false,
     "input": [
      "pop_size = [6,10,20,50,100]\n",
      "iterations = 100\n",
      "mutation_rate = [0.005,0.01,.02,0.05,0.1,0.2,0.5]"
     ],
     "language": "python",
     "metadata": {},
     "outputs": [],
     "prompt_number": 148
    },
    {
     "cell_type": "markdown",
     "metadata": {},
     "source": [
      "##Part 2a: Changing Mutation Rates##"
     ]
    },
    {
     "cell_type": "code",
     "collapsed": false,
     "input": [
      "aic_best_mut = [[]]*len(mutation_rate)\n",
      "best_solution_mut = [[]]*len(mutation_rate)\n",
      "aic_history_mut = [[]]*len(mutation_rate)\n",
      "\n",
      "# Initialize genotype\n",
      "current_gen = np.random.binomial(1, 0.5, pop_size[2]*ncols).reshape((pop_size[2], ncols))"
     ],
     "language": "python",
     "metadata": {},
     "outputs": [],
     "prompt_number": 137
    },
    {
     "cell_type": "code",
     "collapsed": false,
     "input": [
      "for j in arange(len(mutation_rate)):\n",
      "    aic_best=[]\n",
      "    best_solution=[]\n",
      "    aic_history = []\n",
      "    for i in range(iterations):\n",
      "        \n",
      "        # Get phenotype\n",
      "        current_phe = [predictors[predictors.columns[g.astype(bool)]] for g in current_gen]\n",
      "        # Calculate AIC\n",
      "        current_aic = np.array([aic(pd.ols(y=logsalary, x=x)) for x in current_phe])\n",
      "        # Get lowest AIC\n",
      "        aic_best.append(current_aic[np.argmin(current_aic)])\n",
      "        best_solution.append(current_gen[np.argmin(current_aic)])\n",
      "        \n",
      "        # Calculate fitness according to AIC rank\n",
      "        fitness = calculate_fitness(current_aic)\n",
      "        \n",
      "        # Choose first parents randomly\n",
      "        moms = np.random.choice(range(pop_size[2]), size=pop_size[2]/2,p=fitness)\n",
      "        # Choose second parents randomly\n",
      "        dads = np.random.choice(range(pop_size[2]), size=pop_size[2]/2)\n",
      "        \n",
      "        next_gen = []\n",
      "        for x,y in zip(current_gen[moms], current_gen[dads]):\n",
      "            # Crossover\n",
      "            cross = np.random.randint(0, ncols)\n",
      "            child1 = np.r_[x[:cross], y[cross:]]\n",
      "            child2 = np.r_[y[:cross], x[cross:]]\n",
      "            # Mutate\n",
      "            m1 = np.random.binomial(1, mutation_rate[j], size=ncols).astype(bool)\n",
      "            child1[m1] = abs(child1[m1]-1)\n",
      "            m2 = np.random.binomial(1, mutation_rate[j], size=ncols)\n",
      "            child2[m2] = abs(child1[m2]-1)\n",
      "            next_gen += [child1, child2]\n",
      "            \n",
      "        # Increment generation\n",
      "        current_gen = np.array(next_gen)\n",
      "#   Store AIC values\n",
      "    aic_best_mut[j].append(aic_best)\n",
      "    best_solution_mut[j].append(best_solution)\n",
      "    aic_history_mut[j].append(current_aic)"
     ],
     "language": "python",
     "metadata": {},
     "outputs": [],
     "prompt_number": 138
    },
    {
     "cell_type": "markdown",
     "metadata": {},
     "source": [
      "## Part 2b: Changing Mutation Rates ##"
     ]
    },
    {
     "cell_type": "code",
     "collapsed": false,
     "input": [
      "aic_best_pop = [[]]*len(pop_size)\n",
      "best_solution_pop = [[]]*len(pop_size)\n",
      "aic_history_pop = [[]]*len(pop_size)\n"
     ],
     "language": "python",
     "metadata": {},
     "outputs": [],
     "prompt_number": 149
    },
    {
     "cell_type": "code",
     "collapsed": false,
     "input": [
      "for j in arange(len(pop_size)):\n",
      "    # Initialize genotype\n",
      "    current_gen = np.random.binomial(1, 0.5, pop_size[j]*ncols).reshape((pop_size[j], ncols))\n",
      "    aic_best=[]\n",
      "    best_solution=[]\n",
      "    aic_history = []\n",
      "    for i in range(iterations):\n",
      "        \n",
      "        # Get phenotype\n",
      "        current_phe = [predictors[predictors.columns[g.astype(bool)]] for g in current_gen]\n",
      "        # Calculate AIC\n",
      "        current_aic = np.array([aic(pd.ols(y=logsalary, x=x)) for x in current_phe])\n",
      "        # Get lowest AIC\n",
      "        aic_best.append(current_aic[np.argmin(current_aic)])\n",
      "        best_solution.append(current_gen[np.argmin(current_aic)])\n",
      "        \n",
      "        # Calculate fitness according to AIC rank\n",
      "        fitness = calculate_fitness(current_aic)\n",
      "        \n",
      "        # Choose first parents randomly\n",
      "        moms = np.random.choice(range(pop_size[j]), size=pop_size[j]/2,p=fitness)\n",
      "        # Choose second parents randomly\n",
      "        dads = np.random.choice(range(pop_size[j]), size=pop_size[j]/2)\n",
      "        \n",
      "        next_gen = []\n",
      "        for x,y in zip(current_gen[moms], current_gen[dads]):\n",
      "            # Crossover\n",
      "            cross = np.random.randint(0, ncols)\n",
      "            child1 = np.r_[x[:cross], y[cross:]]\n",
      "            child2 = np.r_[y[:cross], x[cross:]]\n",
      "            # Mutate\n",
      "            m1 = np.random.binomial(1, mutation_rate[2], size=ncols).astype(bool)\n",
      "            child1[m1] = abs(child1[m1]-1)\n",
      "            m2 = np.random.binomial(1, mutation_rate[2], size=ncols)\n",
      "            child2[m2] = abs(child1[m2]-1)\n",
      "            next_gen += [child1, child2]\n",
      "            \n",
      "        # Increment generation\n",
      "        current_gen = np.array(next_gen)\n",
      "#   Store AIC values\n",
      "    aic_best_pop[j].append(aic_best)\n",
      "    best_solution_pop[j].append(best_solution)\n",
      "    aic_history_pop[j].append(current_aic)"
     ],
     "language": "python",
     "metadata": {},
     "outputs": [],
     "prompt_number": 150
    },
    {
     "cell_type": "markdown",
     "metadata": {},
     "source": [
      "## Part 2c: Independent Selection where One Parent is Based on Fitness"
     ]
    },
    {
     "cell_type": "code",
     "collapsed": false,
     "input": [
      "aic_best_fit = [[]]*len(pop_size)\n",
      "best_solution_fit = [[]]*len(pop_size)\n",
      "aic_history_fit = [[]]*len(pop_size)"
     ],
     "language": "python",
     "metadata": {},
     "outputs": []
    },
    {
     "cell_type": "code",
     "collapsed": false,
     "input": [
      "for j in arange(len(pop_size)):\n",
      "    # Initialize genotype\n",
      "    current_gen = np.random.binomial(1, 0.5, pop_size[j]*ncols).reshape((pop_size[j], ncols))\n",
      "    aic_best=[]\n",
      "    best_solution=[]\n",
      "    aic_history = []\n",
      "    for i in range(iterations):\n",
      "        \n",
      "        # Get phenotype\n",
      "        current_phe = [predictors[predictors.columns[g.astype(bool)]] for g in current_gen]\n",
      "        # Calculate AIC\n",
      "        current_aic = np.array([aic(pd.ols(y=logsalary, x=x)) for x in current_phe])\n",
      "        # Get lowest AIC\n",
      "        aic_best.append(current_aic[np.argmin(current_aic)])\n",
      "        best_solution.append(current_gen[np.argmin(current_aic)])\n",
      "        \n",
      "        # Calculate fitness according to AIC rank\n",
      "        fitness = calculate_fitness(current_aic)\n",
      "        \n",
      "        # Choose first parents randomly\n",
      "        moms = np.random.choice(range(pop_size[j]), size=pop_size[j]/2,p=fitness)\n",
      "        # Choose second parents randomly\n",
      "        dads = np.random.choice(range(pop_size[j]), size=pop_size[j]/2,p=fitness)\n",
      "        \n",
      "        next_gen = []\n",
      "        for x,y in zip(current_gen[moms], current_gen[dads]):\n",
      "            # Crossover\n",
      "            cross = np.random.randint(0, ncols)\n",
      "            child1 = np.r_[x[:cross], y[cross:]]\n",
      "            child2 = np.r_[y[:cross], x[cross:]]\n",
      "            # Mutate\n",
      "            m1 = np.random.binomial(1, mutation_rate[2], size=ncols).astype(bool)\n",
      "            child1[m1] = abs(child1[m1]-1)\n",
      "            m2 = np.random.binomial(1, mutation_rate[2], size=ncols)\n",
      "            child2[m2] = abs(child1[m2]-1)\n",
      "            next_gen += [child1, child2]\n",
      "            \n",
      "        # Increment generation\n",
      "        current_gen = np.array(next_gen)\n",
      "#   Store AIC values\n",
      "    aic_best_fit[j].append(aic_best)\n",
      "    best_solution_fit[j].append(best_solution)\n",
      "    aic_history_fit[j].append(current_aic)"
     ],
     "language": "python",
     "metadata": {},
     "outputs": []
    }
   ],
   "metadata": {}
  }
 ]
}