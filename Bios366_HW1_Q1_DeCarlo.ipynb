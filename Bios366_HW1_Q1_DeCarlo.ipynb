{
 "metadata": {
  "name": ""
 },
 "nbformat": 3,
 "nbformat_minor": 0,
 "worksheets": [
  {
   "cells": [
    {
     "cell_type": "code",
     "collapsed": false,
     "input": [
      "import numpy as np\n",
      "import scipy as sp\n",
      "import pandas as pd\n"
     ],
     "language": "python",
     "metadata": {},
     "outputs": [],
     "prompt_number": 1
    },
    {
     "cell_type": "markdown",
     "metadata": {},
     "source": [
      "# Homework 1\n",
      "## Question 1\n",
      "\n",
      "The data below provides counts of a flour beetle (Tribolium confusum) population at various points of time:\n",
      "\n",
      "\n"
     ]
    },
    {
     "cell_type": "code",
     "collapsed": false,
     "input": [
      "days = 0,8,28,41,63,79,97,117,135,154\n",
      "beetles = 2,47,192,256,768,896,1120,896,1184,1024\n",
      "\n",
      "plt.plot(days,beetles)"
     ],
     "language": "python",
     "metadata": {},
     "outputs": [
      {
       "metadata": {},
       "output_type": "pyout",
       "prompt_number": 2,
       "text": [
        "[<matplotlib.lines.Line2D at 0x105b08110>]"
       ]
      },
      {
       "metadata": {},
       "output_type": "display_data",
       "png": "[encoded data removed]",
       "text": [
        "<matplotlib.figure.Figure at 0x105adf650>"
       ]
      }
     ],
     "prompt_number": 2
    },
    {
     "cell_type": "markdown",
     "metadata": {},
     "source": [
      "An elementary model for population growth is the logistic model:\n",
      "\n",
      "$$ \\frac{dN}{dt} = rN(1-\\frac{N}{K}) $$\n",
      "\n",
      "where $N$ is population size, $t$ is time, $r$ is growth rate parameter, and $K$ is a parameter that represents the population carrying capacity of the environment. The solution to this differential equation is given by:\n",
      "\n",
      "$$ N_t = f(t) = \\frac{KN_0}{N_0 +(K-N_0)exp(-rt)} $$\n",
      "\n",
      "where $N_t$ denotes the population size at time $t$.\n",
      "\n",
      "1. Fit the logistic growth model to the flour beetle data using the Newton-Raphson approach to minimize the sum of squared errors between model predictions and observed counts.\n",
      "\n",
      "2. In many population growth modeling applications, an assumption of lognormality is adopted. The simplest assumption would be that $log(N_t)$ are independent and normally distributed with mean $log[f(t)]$ and variance $\\sigma^2$. Find the MLEs under this assumption, using the Newton-Raphson method."
     ]
    },
    {
     "cell_type": "markdown",
     "metadata": {},
     "source": [
      "**Problem 1.1 Solution**\n",
      "\n",
      "First, we define the parameters we wish to optimize, $\\theta$, and the objective function, $s(\\theta)$. \n",
      "\n",
      "As stated in the problem statement, we are interested in fitting the logistic growth model to the data by choosing $r$ the growth rate parameter, and $K$ the carrying capacity parameter. Thus $\\theta = [r, K]$.\n",
      "\n",
      "The objective function we are minimizing is the sum of squares of errors between the logistic growth model $f(\\theta)$ the data $y_t$. Thus the objective function is stated below.\n",
      "\n",
      "\\begin{equation}\n",
      "s(\\theta) = \\sum\\limits_{i=1}^n (y_i - f_t(\\theta))^2\n",
      "\\end{equation}\n",
      "\n",
      "For the Newton-Raphson algorithm, we also need the first and second derivatives with respect to the optimizing parameters which is calculated are follows.\n",
      "\n",
      "\\begin{equation}\n",
      "g(\\theta) = s'(\\theta) = -2\\sum\\limits_{i=1}^n (y_i - f_t(\\theta)) \\frac{d}{d\\theta}f_t(\\theta)\n",
      "\\end{equation}\n",
      "\n",
      "\\begin{equation}\n",
      "H(\\theta) = s''(\\theta) = 2\\sum\\limits_{i=1}^n \\frac{d}{d\\theta}f_t(\\theta)\\frac{d}{d\\theta^t}f_t(\\theta) -2\\sum\\limits_{i=1}^n (y_i - f_i(\\theta))\\frac{d^2}{d\\theta d\\theta^t}f_t(\\theta)\n",
      "\\end{equation}\n",
      "\n",
      "These derivatives are used to calculate the next value of $\\theta$ to try in the iteration.\n",
      "\n",
      "\\begin{equation}\n",
      "\\theta_{i+1} = \\theta_i + H^{-1}(\\theta_i)g(\\theta)\n",
      "\\end{equation}\n",
      "\n",
      "It then becomes necessary to compute the derivatives of $f(\\theta)$ with respect to the minimizing parameters to calculate the $g(\\theta)$ and $H(\\theta)$ matrices. After differentiating, we have:\n",
      "\n",
      "\\begin{equation}\n",
      "\\frac{\\delta f}{\\delta K} = N_0[N_0+(K-N_0)exp(-rt)]^{-1}-KN_0exp(-rt)[N_0+(K-N_0)exp(-rt)]^{-2}\n",
      "\\end{equation}\n",
      "\n",
      "\\begin{equation}\n",
      "\\frac{\\delta^2 f}{\\delta K \\delta K} = -N_0[N_0+(K-N_0)exp(-rt)]^{-2}exp(-rt) - N_0exp(-rt)[N_0+(K-N_0)exp(-rt)]^{-2}+2KN_0exp(-2rt)[N_0+(K-N_0)exp(-rt)]^{-3}\n",
      "\\end{equation}\n",
      "\n",
      "\\begin{equation}\n",
      "\\frac{\\delta^2 f}{\\delta K \\delta r} = -tN_0(K-N_0)exp(-rt)[N_0+(K-N_0)exp(-rt)]^{-2}-2tKN_0(K-N_0)exp(-2rt)[N_0+(K-N_0)exp(-rt)]^{-3} + tKN_0exp(-rt)[N_0+(K-N_0)exp(-rt)]^{-2}\n",
      "\\end{equation}\n",
      "\n",
      "\\begin{equation}\n",
      "\\frac{\\delta f}{\\delta r} =tKN_0(K-N_0)exp(-rt)[N_0+(K-N_0)exp(-rt)]^{-2}\n",
      "\\end{equation}\n",
      "\n",
      "\\begin{equation}\n",
      "\\frac{\\delta^2 f}{\\delta r \\delta K} = -tN_0(K-N_0)exp(-rt)[N_0+(K-N_0)exp(-rt)]^{-2}-2tKN_0(K-N_0)exp(-2rt)[N_0+(K-N_0)exp(-rt)]^{-3} + tKN_0exp(-rt)[N_0+(K-N_0)exp(-rt)]^{-2}\n",
      "\\end{equation}\n",
      "\n",
      "\\begin{equation}\n",
      "\\frac{\\delta^2 f}{\\delta r \\delta r} = 2t^2KN_0(K-N_0)^2exp(-2rt)[N_0+(K-N_0)exp(-rt)]^{-3} - t^2KN_0(K-N_0)exp(-rt)[N_0+(K-N_0)exp(-rt)]^{-2}\n",
      "\\end{equation}\n",
      "\n",
      "It can be seen that $\\frac{\\delta^2 f}{\\delta r \\delta K}$ and $\\frac{\\delta^2 f}{\\delta K \\delta r}$ are equal, and therefore the matrix H is positive definite, making the equation $\\theta_{i+1} = \\theta_i + H^{-1}(\\theta_i)g(\\theta)$ valid.\n",
      "\n",
      "We can now create these functions to use in the optimization code."
     ]
    },
    {
     "cell_type": "code",
     "collapsed": false,
     "input": [
      "## Defining the logistic growth model function f(theta)\n",
      "def f_func(N_0,t,r,K):\n",
      "    den = N_0+(K-N_0)*np.exp(-r*t)\n",
      "    f = (K*N_0)/(den)\n",
      "    return f"
     ],
     "language": "python",
     "metadata": {},
     "outputs": [],
     "prompt_number": 3
    },
    {
     "cell_type": "code",
     "collapsed": false,
     "input": [
      "t = np.arange(10);\n",
      "N_0 = 2; r = 3; K = 0.2;\n",
      "data = np.ones(10)\n"
     ],
     "language": "python",
     "metadata": {},
     "outputs": [],
     "prompt_number": 11
    },
    {
     "cell_type": "code",
     "collapsed": false,
     "input": [
      "## Defining first derivatives of f(theta)\n",
      "def dfdK_func(N_0,t,r,K):\n",
      "    den = N_0+(K-N_0)*np.exp(-r*t)\n",
      "    dfdK = N_0*(den)**(-1)-K*N_0*np.exp(-r*t)*(den)**(-2)\n",
      "    return dfdK\n",
      "\n",
      "def dfdr_func(N_0,t,r,K):\n",
      "    den = N_0+(K-N_0)*np.exp(-r*t)\n",
      "    dfdr = t*K*N_0*(K-N_0)*np.exp(-r*t)*(den)**(-2)\n",
      "    return dfdr  "
     ],
     "language": "python",
     "metadata": {},
     "outputs": [],
     "prompt_number": 12
    },
    {
     "cell_type": "code",
     "collapsed": false,
     "input": [
      "## Defining second derivatives of f(theta)\n",
      "def dfdKdK_func(N_0,t,r,K):\n",
      "    den = N_0+(K-N_0)*np.exp(-r*t)\n",
      "    dfdKdK = -N_0*np.exp(-r*t)*(den)**(-2)-N_0*np.exp(-r*t)*(den)**(-2)+2*K*N_0*np.exp(-2*r*t)*(den)**(-3)\n",
      "    return dfdKdK\n",
      "\n",
      "def dfdKdr_func(N_0,t,r,K):\n",
      "    den = N_0+(K-N_0)*np.exp(-r*t)\n",
      "    dfdKdr = -t*N_0*(K-N_0)*np.exp(-r*t)*(den)**(-2)-2*t*K*N_0*(K-N_0)*np.exp(-2*r*t)*(den)**(-3)+t*K*N_0*np.exp(-r*t)*(den)**(-2)\n",
      "    return dfdKdr\n",
      "\n",
      "def dfdrdr_func(N_0,t,r,K):\n",
      "    den = N_0+(K-N_0)*np.exp(-r*t)\n",
      "    dfdrdr = 2*t**2*K*N_0*(K-N_0)**2*np.exp(-2*r*t)*(den)**(-3)-t**2*K*N_0*(K-N_0)*np.exp(-r*t)*(den)**(-2)\n",
      "    return dfdrdr\n",
      "\n",
      "def dfdrdK_func(N_0,t,r,K):\n",
      "    den = N_0+(K-N_0)*np.exp(-r*t)\n",
      "    dfdrdK = -t*N_0*(K-N_0)*np.exp(-r*t)*(den)**(-2)-2*t*K*N_0*(K-N_0)*np.exp(-2*r*t)*(den)**(-3)+t*K*N_0*np.exp(-r*t)*(den)**(-2)\n",
      "    return dfdrdK"
     ],
     "language": "python",
     "metadata": {},
     "outputs": [],
     "prompt_number": 6
    },
    {
     "cell_type": "code",
     "collapsed": false,
     "input": [
      "## Defining the first derivate of the objective function g(theta)\n",
      "def g_func(N_0,t,r,K,data):\n",
      "    dfdK = dfdK_func(N_0,t,r,K)\n",
      "    dfdr = dfdr_func(N_0,t,r,K)\n",
      "    df = np.array([dfdK,dfdr])\n",
      "    g = -2.*sum((data-f_func(N_0,t,r,K))*df)\n",
      "    return g\n",
      "\n",
      "## Defining the second derivative of the objective function h(theta)\n",
      "def h_func(N_0,t,r,K,data):\n",
      "    dfdKdK = dfdK_func(N_0,t,r,K)\n",
      "    dfdrdK = dfdr_func(N_0,t,r,K)\n",
      "    dfdKdr = dfdK_func(N_0,t,r,K)\n",
      "    dfdrdr = dfdr_func(N_0,t,r,K)\n",
      "    dfdK = dfdK_func(N_0,t,r,K)\n",
      "    dfdr = dfdr_func(N_0,t,r,K)\n",
      "    df1 = np.array([dfdK,dfdr])\n",
      "    df2 = np.array([dfdKdK, dfdKdr],[dfdKdr,dfdrdr])\n",
      "    \n",
      "    h = -2.*np.sum((data-f_func(N_0,t,r,K))*df1*df1+(data-f_func(N_0,t,r,K))*df1*np.fliplr(df1))-2.*np.sum((data-f_func(N_0,t,r,K))*df2)\n",
      "    return h\n",
      "           "
     ],
     "language": "python",
     "metadata": {},
     "outputs": [],
     "prompt_number": 74
    },
    {
     "cell_type": "code",
     "collapsed": false,
     "input": [
      "dfdK = dfdK_func(N_0,t,r,K)\n",
      "dfdr = dfdr_func(N_0,t,r,K)\n",
      "df = np.array([dfdK,dfdr])\n",
      "for d in df\n",
      "    g = -2.*sum((data-f_func(N_0,t,r,K))*df[d])\n",
      "g"
     ],
     "language": "python",
     "metadata": {},
     "outputs": [
      {
       "ename": "SyntaxError",
       "evalue": "invalid syntax (<ipython-input-86-d7503e740fc9>, line 4)",
       "output_type": "pyerr",
       "traceback": [
        "\u001b[0;36m  File \u001b[0;32m\"<ipython-input-86-d7503e740fc9>\"\u001b[0;36m, line \u001b[0;32m4\u001b[0m\n\u001b[0;31m    for d in df\u001b[0m\n\u001b[0m               ^\u001b[0m\n\u001b[0;31mSyntaxError\u001b[0m\u001b[0;31m:\u001b[0m invalid syntax\n"
       ]
      }
     ],
     "prompt_number": 86
    },
    {
     "cell_type": "code",
     "collapsed": false,
     "input": [
      "print sys.version"
     ],
     "language": "python",
     "metadata": {},
     "outputs": [
      {
       "output_type": "stream",
       "stream": "stdout",
       "text": [
        "2.7.2 (default, Oct 11 2012, 20:14:37) \n",
        "[GCC 4.2.1 Compatible Apple Clang 4.0 (tags/Apple/clang-418.0.60)]\n"
       ]
      }
     ],
     "prompt_number": 84
    },
    {
     "cell_type": "code",
     "collapsed": false,
     "input": [
      "\n"
     ],
     "language": "python",
     "metadata": {},
     "outputs": [
      {
       "metadata": {},
       "output_type": "pyout",
       "prompt_number": 62,
       "text": [
        "array([[  1.26217745e-29,   1.08462554e+00,   1.00397771e+00,\n",
        "          1.00019748e+00,   1.00000983e+00,   1.00000049e+00,\n",
        "          1.00000002e+00,   1.00000000e+00,   1.00000000e+00,\n",
        "          1.00000000e+00],\n",
        "       [  0.00000000e+00,   9.64752851e-05,   8.03435428e-07,\n",
        "          4.44303570e-09,   1.95707304e-11,   7.57968295e-14,\n",
        "          2.70549158e-16,   9.12794157e-19,   2.95522024e-21,\n",
        "          9.27103042e-24]])"
       ]
      }
     ],
     "prompt_number": 62
    },
    {
     "cell_type": "code",
     "collapsed": false,
     "input": [],
     "language": "python",
     "metadata": {},
     "outputs": []
    }
   ],
   "metadata": {}
  }
 ]
}