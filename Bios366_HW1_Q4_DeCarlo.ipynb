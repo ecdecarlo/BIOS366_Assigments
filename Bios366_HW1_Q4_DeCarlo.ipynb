{
 "metadata": {
  "name": ""
 },
 "nbformat": 3,
 "nbformat_minor": 0,
 "worksheets": [
  {
   "cells": [
    {
     "cell_type": "code",
     "collapsed": false,
     "input": [
      "import pandas as pd\n",
      "import numpy as np\n",
      "import scipy as sp\n",
      "import matplotlib.pyplot as plt\n",
      "from scipy.stats import norm"
     ],
     "language": "python",
     "metadata": {},
     "outputs": [],
     "prompt_number": 8
    },
    {
     "cell_type": "markdown",
     "metadata": {},
     "source": [
      "# Homework 1\n",
      "## Question 4\n",
      "\n",
      "Suppose $y$ has a binomial distribution with parameters $n$ and $p$ and we are insterested in the log-odds value $\\theta = log(p/(1-p)$. Our prior for $\\theta$ is that $\\theta ~ N(\\mu,\\sigma)$. It follows that the posterior density for $\\theta$ is given, up to a proportionality constant,by:\n",
      "\n",
      "$$g(\\theta|y) \\propto \\frac{\\exp(y\\theta)}{1+\\exp(\\theta)^n}\\exp[\\frac{-(\\theta-\\mu)^2}{2\\sigma^2}] $$\n",
      "\n",
      "For example, suppose we are interested in learning about the probability that a possibly biased coin lands headswhen tossed. A priori we believe that the coin is fair, so we assign $\\theta$ a $N(0,0.25)$ prior. We toss the coin $n=5$ times and obtain y=5 heads.\n",
      "\n",
      "1. Using a normal approximation to the posterior density, compute the probability that the coin is biased toward heads (i.e., that $\\theta$ is positive)\n",
      "\n",
      "2. Using the prior density as a proposal density design a rejection algorithm for sampling from the posterior distribtuion. Using simulated draws from your algortihm, approximate the probability that the coin is biased toward heads.\n",
      "\n",
      "3. Using the prior density as a proposal density, simulate values from the posterior distribution using the SIR algorithm. Approximate the probability that the coin is biased toward heads.\n",
      "\n",
      "## Part 1 Solution"
     ]
    },
    {
     "cell_type": "markdown",
     "metadata": {},
     "source": [
      "** Posterior Distribution **"
     ]
    },
    {
     "cell_type": "code",
     "collapsed": false,
     "input": [
      "def posterior_theta(theta,mu,sigma,y,n):\n",
      "    g = np.exp(y*theta)/((1+np.exp(theta))**n)*exp(-((theta-mu)**2)/(2*sigma**2))\n",
      "    return g"
     ],
     "language": "python",
     "metadata": {},
     "outputs": [],
     "prompt_number": 9
    },
    {
     "cell_type": "markdown",
     "metadata": {},
     "source": [
      "** Samples Desired, Prior Statistics, and Data **"
     ]
    },
    {
     "cell_type": "code",
     "collapsed": false,
     "input": [
      "samples = 10000\n",
      "mu = 0;\n",
      "sigma =  0.25;\n",
      "y = 5;\n",
      "n = 5;"
     ],
     "language": "python",
     "metadata": {},
     "outputs": []
    },
    {
     "cell_type": "markdown",
     "metadata": {},
     "source": [
      "** Randomly Sample $\\theta$ from Prior and Obtain Likelihood Values**"
     ]
    },
    {
     "cell_type": "code",
     "collapsed": false,
     "input": [
      "theta = np.random.normal(mu, sigma, samples)\n",
      "like = posterior_theta(theta,mu,sigma,y,n)"
     ],
     "language": "python",
     "metadata": {},
     "outputs": [],
     "prompt_number": 10
    },
    {
     "cell_type": "markdown",
     "metadata": {},
     "source": [
      "** Calculate Posterior Statistics **"
     ]
    },
    {
     "cell_type": "code",
     "collapsed": false,
     "input": [
      "new_mu = (theta*like).sum()/like.sum()\n",
      "new_std = sqrt((((theta-new_mu)**2)*like).sum())\n",
      "Pr=1-sp.stats.norm.cdf(0,new_mu,new_std)\n",
      "print('Posterior probability the coin is biased = {0}'.format(Pr))"
     ],
     "language": "python",
     "metadata": {},
     "outputs": [
      {
       "output_type": "stream",
       "stream": "stdout",
       "text": [
        "Posterior probability the coin is biased = 0.511070484118\n"
       ]
      }
     ],
     "prompt_number": 19
    },
    {
     "cell_type": "markdown",
     "metadata": {},
     "source": [
      "\n",
      "## Part 2 Solution\n",
      "\n",
      "** Rejection Sampling Algorithm to Generate Number of Samples Desired**"
     ]
    },
    {
     "cell_type": "code",
     "collapsed": false,
     "input": [
      "alpha = 0.5\n",
      "post=[]*samples\n",
      "while len(post)<samples:\n",
      "    proposed = np.random.normal(mu, sigma)\n",
      "    u = np.random.rand()\n",
      "    f = posterior_theta(proposed,mu,sigma,y,n)\n",
      "    g = sp.stats.norm.pdf(proposed,mu,sigma)\n",
      "    if f/(g/alpha) > u:\n",
      "        post.append(proposed)"
     ],
     "language": "python",
     "metadata": {},
     "outputs": [],
     "prompt_number": 15
    },
    {
     "cell_type": "markdown",
     "metadata": {},
     "source": [
      "** Calculate Posterior Statistics **"
     ]
    },
    {
     "cell_type": "code",
     "collapsed": false,
     "input": [
      "new_mu = np.mean(post)\n",
      "new_std= np.std(post)\n",
      "Pr=1-sp.stats.norm.cdf(0,new_mu,new_std)\n",
      "print('Posterior probability the coin is biased = {0}'.format(Pr))"
     ],
     "language": "python",
     "metadata": {},
     "outputs": [
      {
       "output_type": "stream",
       "stream": "stdout",
       "text": [
        "Posterior probability the coin is biased = 0.717808852652\n"
       ]
      }
     ],
     "prompt_number": 16
    },
    {
     "cell_type": "markdown",
     "metadata": {},
     "source": [
      "## Part 3 Solution\n",
      "\n",
      "** SIR Algorithm **"
     ]
    },
    {
     "cell_type": "code",
     "collapsed": false,
     "input": [
      "\n",
      "\n",
      "proposed = np.random.normal(mu, sigma, samples)\n",
      "g = sp.stats.norm.pdf(proposed,mu,sigma)\n",
      "f = posterior_theta(proposed,mu,sigma,y,n)\n",
      "w = (f/g)/(f/g).sum()\n",
      "post = proposed[np.random.choice(range(len(proposed)), size=samples, p=w)]"
     ],
     "language": "python",
     "metadata": {},
     "outputs": [],
     "prompt_number": 17
    },
    {
     "cell_type": "markdown",
     "metadata": {},
     "source": [
      "** Calculate Posterior Statistics **"
     ]
    },
    {
     "cell_type": "code",
     "collapsed": false,
     "input": [
      "new_mu = np.mean(post)\n",
      "new_std= np.std(post)\n",
      "Pr=1-sp.stats.norm.cdf(0,new_mu,new_std)\n",
      "print('Posterior probability the coin is biased = {0}'.format(Pr))"
     ],
     "language": "python",
     "metadata": {},
     "outputs": [
      {
       "output_type": "stream",
       "stream": "stdout",
       "text": [
        "Posterior probability the coin is biased = 0.730617665249\n"
       ]
      }
     ],
     "prompt_number": 18
    }
   ],
   "metadata": {}
  }
 ]
}