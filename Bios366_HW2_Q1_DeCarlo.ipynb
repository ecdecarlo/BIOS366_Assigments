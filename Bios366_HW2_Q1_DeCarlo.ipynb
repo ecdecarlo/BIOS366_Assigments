{
 "metadata": {
  "name": ""
 },
 "nbformat": 3,
 "nbformat_minor": 0,
 "worksheets": [
  {
   "cells": [
    {
     "cell_type": "code",
     "collapsed": false,
     "input": [
      "import numpy as np\n",
      "import scipy as sp\n",
      "import matplotlib.pyplot as plt\n",
      "from scipy.stats import norm, uniform"
     ],
     "language": "python",
     "metadata": {},
     "outputs": [],
     "prompt_number": 1
    },
    {
     "cell_type": "markdown",
     "metadata": {},
     "source": [
      "## Question 1\n",
      "\n",
      "The goal of this problem is to investigate the role of the proposal distribution in a Metropolis-Hastings algorithm designed to simulate from the posterior distribution of the mixture parameter $\\delta$. \n",
      "\n",
      "1. Simulate 200 realizations from the mixture distribution:\n",
      "    $$y_i \\sim \\delta N(7, 0.5^2) + (1-\\delta) N(10, 0.5^2)$$\n",
      "    with $\\delta = 0.7$. Plot a histogram of these data. \n",
      "2. Implement an ABC procedure to simulate from the posterior distribution of $\\delta$, using your data from part (1). \n",
      "3. Implement a random walk M-H algorithm with proposal $\\delta\\prime = \\delta^{(i)} + \\epsilon$ with $\\epsilon \\sim Unif(\u22121,1)$. \n",
      "4. Reparameterize the problem letting $U = \\log\\left[\\frac{\\delta}{1 - \\delta}\\right]$ and $u\\prime = u^{(i)} + \\epsilon$. Implement a random walk chain in U-space. (Hint: you need to account for this transformation in your acceptance probability) \n",
      "5. Compare the estimates and convergence behavior of the three algorithms.\n",
      "\n",
      "In part (1), you are asked to simulate data from a distribution with $\\delta$ known. For parts (2)\u2013(4), assume $\\delta$ is unknown with prior $\\delta \\sim Unif( 0,1)$. For parts (2)\u2013(4), provide an appropriate plot and a table summarizing the output of the algorithm. To facilitate comparisons, use the same number of iterations, random seed, starting values, and burn-in period for all implementations of the algorithm. \n",
      "\n",
      "** Part 1: Simulate Data**"
     ]
    },
    {
     "cell_type": "code",
     "collapsed": false,
     "input": [
      "def mix_dist(delta):\n",
      "    y = [delta[i]*np.random.normal(7,0.5)+(1-delta[i])*np.random.normal(10,0.5) for i in range(size(delta))]\n",
      "    return y\n",
      "\n",
      "realizations = 200\n",
      "delta = [0.7]*realizations\n",
      "y_obs = mix_dist(delta)"
     ],
     "language": "python",
     "metadata": {},
     "outputs": [],
     "prompt_number": 2
    },
    {
     "cell_type": "code",
     "collapsed": false,
     "input": [
      "plt.hist(y_obs, bins=15)\n",
      "ylabel('Frequency')\n",
      "xlabel('y')\n",
      "title('Histogram of Observed Data')"
     ],
     "language": "python",
     "metadata": {},
     "outputs": [
      {
       "metadata": {},
       "output_type": "pyout",
       "prompt_number": 3,
       "text": [
        "<matplotlib.text.Text at 0x10706aa90>"
       ]
      },
      {
       "metadata": {},
       "output_type": "display_data",
       "png": "[encoded data removed]",
       "text": [
        "<matplotlib.figure.Figure at 0x1055ff490>"
       ]
      }
     ],
     "prompt_number": 3
    },
    {
     "cell_type": "markdown",
     "metadata": {},
     "source": [
      "** Part 2: Implement Approximate Bayesian Computing Procedure to Simulate Posterior of $\\delta$ **\n",
      "\n",
      "**Parameters and Prior Statistics**"
     ]
    },
    {
     "cell_type": "code",
     "collapsed": false,
     "input": [
      "random.seed(3000)\n",
      "samples = 1000\n",
      "lower = 0;\n",
      "upper =  1;"
     ],
     "language": "python",
     "metadata": {},
     "outputs": [],
     "prompt_number": 11
    },
    {
     "cell_type": "markdown",
     "metadata": {},
     "source": [
      "** Density Proportional to the Posterior Distribution (Likelihood times Prior) **"
     ]
    },
    {
     "cell_type": "code",
     "collapsed": false,
     "input": [
      "def posterior_delta(delta, lower,upper,y_obs):\n",
      "    y_pred=mix_dist(delta)\n",
      "    like = [(sp.stats.norm.pdf(y_pred[i]-y_obs,0,0.05)*sp.stats.uniform.pdf(delta[i],lower,upper)).sum() for i in range(size(delta))]\n",
      "    return like"
     ],
     "language": "python",
     "metadata": {},
     "outputs": [],
     "prompt_number": 58
    },
    {
     "cell_type": "markdown",
     "metadata": {},
     "source": [
      "** SIR Algorithm **"
     ]
    },
    {
     "cell_type": "code",
     "collapsed": false,
     "input": [
      "proposed = np.random.uniform(lower, upper, samples)\n",
      "g = sp.stats.uniform.pdf(proposed,lower,upper)\n",
      "f = posterior_delta(proposed,lower,upper,y_obs)\n",
      "w = (f/g)/(f/g).sum()\n",
      "post = proposed[np.random.choice(range(len(proposed)), size=samples, p=w)]"
     ],
     "language": "python",
     "metadata": {},
     "outputs": [],
     "prompt_number": 59
    },
    {
     "cell_type": "code",
     "collapsed": false,
     "input": [
      "plt.hist(post, bins=15)\n",
      "ylabel('Frequency')\n",
      "xlabel('y')\n",
      "title('Histogram of Posterior Delta')"
     ],
     "language": "python",
     "metadata": {},
     "outputs": [
      {
       "metadata": {},
       "output_type": "pyout",
       "prompt_number": 60,
       "text": [
        "<matplotlib.text.Text at 0x1077b5410>"
       ]
      },
      {
       "metadata": {},
       "output_type": "display_data",
       "png": "[encoded data removed]",
       "text": [
        "<matplotlib.figure.Figure at 0x10779e690>"
       ]
      }
     ],
     "prompt_number": 60
    },
    {
     "cell_type": "markdown",
     "metadata": {},
     "source": [
      "** Part 3: Implement Random Walk MH Algorithm to Simulate Posterior of $\\delta$ **\n",
      "\n",
      "**Parameters and Prior Statistics**"
     ]
    },
    {
     "cell_type": "code",
     "collapsed": false,
     "input": [
      "random.seed(3000)\n",
      "samples = 1000\n",
      "lower = 0;\n",
      "upper =  1;"
     ],
     "language": "python",
     "metadata": {},
     "outputs": [],
     "prompt_number": 61
    },
    {
     "cell_type": "markdown",
     "metadata": {},
     "source": [
      "** Define Proposal Density for MH Algorithm **"
     ]
    },
    {
     "cell_type": "code",
     "collapsed": false,
     "input": [],
     "language": "python",
     "metadata": {},
     "outputs": []
    }
   ],
   "metadata": {}
  }
 ]
}